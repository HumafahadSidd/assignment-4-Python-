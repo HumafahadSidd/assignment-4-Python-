{
  "nbformat": 4,
  "nbformat_minor": 0,
  "metadata": {
    "colab": {
      "provenance": []
    },
    "kernelspec": {
      "name": "python3",
      "display_name": "Python 3"
    },
    "language_info": {
      "name": "python"
    }
  },
  "cells": [
    {
      "cell_type": "markdown",
      "source": [
        "Write a Python program that takes two integer inputs from the user and calculates their sum. The program should perform the following tasks:\n",
        "\n",
        "Prompt the user to enter the first number.\n",
        "\n",
        "Read the input and convert it to an integer.\n",
        "\n",
        "Prompt the user to enter the second number.\n",
        "\n",
        "Read the input and convert it to an integer.\n",
        "\n",
        "Calculate the sum of the two numbers.\n",
        "\n",
        "Print the total sum with an appropriate message.\n",
        "\n",
        "The provided solution demonstrates a working implementation of this problem, where the main() function guides the user through the process of entering two numbers and displays their sum."
      ],
      "metadata": {
        "id": "AesQoaQhAa5x"
      }
    },
    {
      "cell_type": "code",
      "source": [
        "def add():\n",
        " print(\"This program add two numbers\")\n",
        " num1:str=(input(\"Enter First number:\"))\n",
        " num1=int(num1)\n",
        " num2=str=input(\"Enter Second number:\")\n",
        " num2=int(num2)\n",
        " sum = num1 + num2\n",
        " print(f\"The sum of {num1} and {num2} is {sum}\")\n",
        "\n",
        "\n",
        "if __name__=='__main__':\n",
        "  add()\n",
        "\n"
      ],
      "metadata": {
        "colab": {
          "base_uri": "https://localhost:8080/"
        },
        "id": "exPZWJMJAhoA",
        "outputId": "d5598d05-09b9-4dfc-8767-abeb1fc9c977"
      },
      "execution_count": null,
      "outputs": [
        {
          "output_type": "stream",
          "name": "stdout",
          "text": [
            "This program add two numbers\n",
            "Enter First number:3\n",
            "Enter Second number:4\n",
            "The sum of 3 and 4 is 7\n"
          ]
        }
      ]
    },
    {
      "cell_type": "markdown",
      "source": [
        "Problem Statement\n",
        "Write a program which asks the user what their favorite animal is, and then always responds with \"My favorite animal is also ___!\" (the blank should be filled in with the user-inputted animal, of course).\n",
        "\n",
        "Here's a sample run of the program (user input is in bold italics - note the space between the prompt and the user input!):\n",
        "\n",
        "What's your favorite animal? cow\n",
        "\n",
        "My favorite animal is also cow!"
      ],
      "metadata": {
        "id": "gl1dTGDeU_P-"
      }
    },
    {
      "cell_type": "code",
      "source": [
        "from IPython.display import Markdown"
      ],
      "metadata": {
        "id": "CCy5N2QZVuaw"
      },
      "execution_count": null,
      "outputs": []
    },
    {
      "cell_type": "code",
      "source": [
        "\n",
        "def fav_animal():\n",
        "  animal:str=input(\"What's your favorite animal?\")\n",
        "  display(Markdown(f\"My favorite animal is also *{animal}*!\"))\n",
        "\n",
        "if __name__=='__main__':\n",
        "  fav_animal()"
      ],
      "metadata": {
        "colab": {
          "base_uri": "https://localhost:8080/",
          "height": 64
        },
        "id": "uuQzLhZFVDef",
        "outputId": "2fe6535c-7fc0-495f-fc60-37f35bc6aceb"
      },
      "execution_count": null,
      "outputs": [
        {
          "name": "stdout",
          "output_type": "stream",
          "text": [
            "What's your favorite animal?rabbit\n"
          ]
        },
        {
          "output_type": "display_data",
          "data": {
            "text/plain": [
              "<IPython.core.display.Markdown object>"
            ],
            "text/markdown": "My favorite animal is also *rabbit*!"
          },
          "metadata": {}
        }
      ]
    },
    {
      "cell_type": "markdown",
      "source": [],
      "metadata": {
        "id": "cbxqj1Z-AaLx"
      }
    },
    {
      "cell_type": "markdown",
      "source": [
        "Write a program which prompts the user for a temperature in Fahrenheit (this can be a number with decimal places!) and outputs the temperature converted to Celsius.\n",
        "\n",
        "The Celsius scale is widely used to measure temperature, but places still use Fahrenheit. Fahrenheit is another unit for temperature, but the scale is different from Celsius -- for example, 0 degrees Celsius is 32 degrees Fahrenheit!\n",
        "\n",
        "The equation you should use for converting from Fahrenheit to Celsius is the following:\n",
        "\n",
        "degrees_celsius = (degrees_fahrenheit - 32) * 5.0/9.0\n",
        "\n",
        "(Note. The .0 after the 5 and 9 matters in the line above!!!)\n",
        "\n",
        "Here's a sample run of the program (user input is in bold italics):\n",
        "\n",
        "Enter temperature in Fahrenheit: 76\n",
        "\n",
        "Temperature: 76.0F = 24.444444444444443C"
      ],
      "metadata": {
        "id": "8WJTpzflXBC-"
      }
    },
    {
      "cell_type": "markdown",
      "source": [],
      "metadata": {
        "id": "gRXED_twAZhp"
      }
    },
    {
      "cell_type": "code",
      "source": [
        "def fehrenheit_to_celsius():\n",
        "  temperature_fahrenheit:float=input(\"enter temperature in fahrenheit=\")\n",
        "  temp_celsius = float(temperature_fahrenheit) - 32  * 5.0/9.0\n",
        "  print(f\"Temperature: {float(temperature_fahrenheit)}F = {temp_celsius}C\")\n",
        "\n",
        "\n",
        "if __name__=='__main__':\n",
        "  fehrenheit_to_celsius()\n"
      ],
      "metadata": {
        "colab": {
          "base_uri": "https://localhost:8080/"
        },
        "id": "xcnpYmV_XNYt",
        "outputId": "c29243d7-92d0-46e2-de65-8086cd281a42"
      },
      "execution_count": null,
      "outputs": [
        {
          "output_type": "stream",
          "name": "stdout",
          "text": [
            "enter temperature in fahrenheit=67\n",
            "Temperature: 67.0F = 49.22222222222222C\n"
          ]
        }
      ]
    },
    {
      "cell_type": "markdown",
      "source": [
        "Write a program to solve this age-related riddle!\n",
        "\n",
        "Anton, Beth, Chen, Drew, and Ethan are all friends. Their ages are as follows:\n",
        "\n",
        "Anton is 21 years old.\n",
        "\n",
        "Beth is 6 years older than Anton.\n",
        "\n",
        "Chen is 20 years older than Beth.\n",
        "\n",
        "Drew is as old as Chen's age plus Anton's age.\n",
        "\n",
        "Ethan is the same age as Chen.\n",
        "\n",
        "Your code should store each person's age to a variable and print their names and ages at the end. The autograder is sensitive to capitalization and punctuation, be careful! Your solution should look like this (the below numbers are made up -- your solution should have the correct values!)\n"
      ],
      "metadata": {
        "id": "OEKKx8hsbYXj"
      }
    },
    {
      "cell_type": "code",
      "source": [
        "def age_riddle():\n",
        " \"\"\"\n",
        "  Solves the age-related riddle by calculating and printing the ages of five friends.\n",
        " \"\"\"\n",
        "\n",
        " Anton:int=21\n",
        " Beth=int=Anton+6\n",
        " Chen:int=20+Beth\n",
        " Drew:int=Chen+Anton\n",
        " Ethan:int=Chen\n",
        "\n",
        " print(f\"Anton is {Anton} years old.\")\n",
        " print(f\"Beth is {Beth} years old.\")\n",
        " print(f\"Chen is {Chen} years old.\")\n",
        " print(f\"Drew is {Drew} years old.\")\n",
        " print(f\"Ethan is {Ethan} years old.\")\n",
        "\n",
        "if __name__=='__main__':\n",
        "  age_riddle()\n"
      ],
      "metadata": {
        "colab": {
          "base_uri": "https://localhost:8080/"
        },
        "id": "-yXcGOb2bbYw",
        "outputId": "21fc4ecb-e153-485f-89b4-ae694e5c9a4b"
      },
      "execution_count": null,
      "outputs": [
        {
          "output_type": "stream",
          "name": "stdout",
          "text": [
            "Anton is 21 years old.\n",
            "Beth is 27 years old.\n",
            "Chen is 47 years old.\n",
            "Drew is 68 years old.\n",
            "Ethan is 47 years old.\n"
          ]
        }
      ]
    },
    {
      "cell_type": "markdown",
      "source": [],
      "metadata": {
        "id": "tL8x_QE7catI"
      }
    },
    {
      "cell_type": "markdown",
      "source": [
        "Prompt the user to enter the lengths of each side of a triangle and then calculate and print the perimeter of the triangle (the sum of all of the side lengths).\n",
        "\n",
        "Here's a sample run of the program (user input is in bold italics):\n",
        "\n",
        "What is the length of side 1? 3\n",
        "\n",
        "What is the length of side 2? 4\n",
        "\n",
        "What is the length of side 3? 5.5\n",
        "\n",
        "The perimeter of the triangle is 12.5\n"
      ],
      "metadata": {
        "id": "QBH5XjbXfDwo"
      }
    },
    {
      "cell_type": "code",
      "execution_count": null,
      "metadata": {
        "id": "2e0BGj5l_otk",
        "colab": {
          "base_uri": "https://localhost:8080/"
        },
        "outputId": "977427cf-8625-43e8-c468-20f553c53ea1"
      },
      "outputs": [
        {
          "output_type": "stream",
          "name": "stdout",
          "text": [
            "What is the length of side 1?2\n",
            "What is the length of side 2?3\n",
            "What is the length of side 3?4\n",
            "The perimeter of the triangle is 9.0\n"
          ]
        }
      ],
      "source": [
        "def perimeter_of_triangle():\n",
        "  side1:float=float(input(\"What is the length of side 1?\"))\n",
        "  side2:float=float(input(\"What is the length of side 2?\"))\n",
        "  side3:float=float(input(\"What is the length of side 3?\"))\n",
        "  perimeter=side1+side2+side3\n",
        "  print(f\"The perimeter of the triangle is {perimeter}\")\n",
        "\n",
        "if __name__=='__main__':\n",
        "  perimeter_of_triangle()"
      ]
    },
    {
      "cell_type": "markdown",
      "source": [
        "Ask the user for a number and print its square (the product of the number times itself).\n",
        "\n",
        "Here's a sample run of the program (user input is in bold italics):\n",
        "\n",
        "Type a number to see its square: 4\n",
        "\n",
        "4.0 squared is 16.0"
      ],
      "metadata": {
        "id": "qbwL0x7Ffvb2"
      }
    },
    {
      "cell_type": "code",
      "source": [
        "def square_of_number():\n",
        "  number:float=float(input(\"Type a number to see its square:\"))\n",
        "  square=number*number\n",
        "  print(f\"{number} squared is {square}\")\n",
        "\n",
        "if __name__=='__main__':\n",
        "  square_of_number()"
      ],
      "metadata": {
        "colab": {
          "base_uri": "https://localhost:8080/"
        },
        "id": "ej5gJqDufx8e",
        "outputId": "795d9c2f-952b-412a-f829-512cb82bacdd"
      },
      "execution_count": null,
      "outputs": [
        {
          "output_type": "stream",
          "name": "stdout",
          "text": [
            "Type a number to see its square:2\n",
            "2.0 squared is 4.0\n"
          ]
        }
      ]
    },
    {
      "cell_type": "code",
      "source": [],
      "metadata": {
        "id": "kSdGzcsAfMnH"
      },
      "execution_count": null,
      "outputs": []
    },
    {
      "cell_type": "markdown",
      "source": [],
      "metadata": {
        "id": "TLv7OLZvfulr"
      }
    },
    {
      "cell_type": "code",
      "source": [],
      "metadata": {
        "id": "-DV4T2xwbVFr"
      },
      "execution_count": null,
      "outputs": []
    },
    {
      "cell_type": "markdown",
      "source": [],
      "metadata": {
        "id": "0mAahb1GbTdk"
      }
    }
  ]
}