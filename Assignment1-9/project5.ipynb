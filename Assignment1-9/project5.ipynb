{
  "cells": [
    {
      "cell_type": "code",
      "execution_count": null,
      "metadata": {
        "id": "U1VJ8nGBIp2S"
      },
      "outputs": [],
      "source": []
    },
    {
      "cell_type": "markdown",
      "metadata": {
        "id": "UMF0qszlJhlX"
      },
      "source": [
        "# New Section"
      ]
    },
    {
      "cell_type": "markdown",
      "metadata": {
        "id": "5XNnpNnkIBHF"
      },
      "source": [
        "#Hangman Python Project\n",
        "In this Kylie Ying tutorial, you will learn how to work with dictionaries, lists, and nested if statements. You will also learn how to work with the string and random Python module"
      ]
    },
    {
      "cell_type": "code",
      "execution_count": null,
      "metadata": {
        "colab": {
          "base_uri": "https://localhost:8080/"
        },
        "id": "rfSMovTZTDpl",
        "outputId": "af542d6c-af26-48bb-eef7-0fe79ea64f6a"
      },
      "outputs": [
        {
          "output_type": "stream",
          "name": "stdout",
          "text": [
            "APPLE\n",
            "BANANA\n",
            "ORANGE\n",
            "GRAPE\n",
            "WATERMELON\n"
          ]
        }
      ],
      "source": [
        "\n",
        "file=open(\"words.txt\",\"w+\")\n",
        "file.write(\"APPLE\\nBANANA\\nORANGE\\nGRAPE\\nWATERMELON\")\n",
        "line=file.seek(0)\n",
        "line=file.read()\n",
        "print(line)\n",
        "file.close()\n"
      ]
    },
    {
      "cell_type": "code",
      "execution_count": null,
      "metadata": {
        "colab": {
          "base_uri": "https://localhost:8080/"
        },
        "id": "jqqrgW-9IrgA",
        "outputId": "1444d29c-791f-4eb8-d834-113f55337cd1"
      },
      "outputs": [
        {
          "output_type": "stream",
          "name": "stdout",
          "text": [
            "You have used these letters:  \n",
            "Current word:  - - - - - -\n",
            "Guess a letter: a\n",
            "\n",
            "You have used these letters:  A\n",
            "Current word:  - - A - - -\n",
            "Guess a letter: r\n",
            "\n",
            "You have used these letters:  A R\n",
            "Current word:  - R A - - -\n",
            "Guess a letter: o\n",
            "\n",
            "You have used these letters:  A O R\n",
            "Current word:  O R A - - -\n",
            "Guess a letter: n\n",
            "\n",
            "You have used these letters:  A N O R\n",
            "Current word:  O R A N - -\n",
            "Guess a letter: g\n",
            "\n",
            "You have used these letters:  A O G N R\n",
            "Current word:  O R A N G -\n",
            "Guess a letter: e\n",
            "\n",
            "You guessed the word ORANGE !!\n"
          ]
        }
      ],
      "source": [
        "import random\n",
        "import string\n",
        "\n",
        "def get_valid_word(words):\n",
        "    word = random.choice(words) # randomly chooses something from the list\n",
        "    while '-' in word or ' ' in word:\n",
        "        word = random.choice(words)\n",
        "\n",
        "    return word.upper()\n",
        "\n",
        "def hangman():\n",
        "   # Open the file and read the words into a list\n",
        "    with open('words.txt', 'r') as f:  # 'r' mode for reading\n",
        "        words = f.read().splitlines()  # splitlines to get words as a list\n",
        "\n",
        "    word = get_valid_word(words)\n",
        "    word_letters = set(word) # letters in the word\n",
        "    alphabet = set(string.ascii_uppercase)\n",
        "    used_letters = set() # what the user has guessed\n",
        "\n",
        "    lives = 6\n",
        "\n",
        "    # getting user input\n",
        "    while len(word_letters) > 0 and lives > 0:\n",
        "        # letters used\n",
        "        # ' '.join(['a', 'b', 'cd']) -> 'a b cd'\n",
        "        print('You have used these letters: ', ' '.join(used_letters))\n",
        "\n",
        "        # what current word is (ie W - R D)\n",
        "        word_list = [letter if letter in used_letters else '-' for letter in word]\n",
        "        print('Current word: ', ' '.join(word_list))\n",
        "\n",
        "        user_letter = input('Guess a letter: ').upper()\n",
        "        if user_letter in alphabet - used_letters:\n",
        "            used_letters.add(user_letter)\n",
        "            if user_letter in word_letters:\n",
        "                word_letters.remove(user_letter)\n",
        "                print('')\n",
        "\n",
        "            else:\n",
        "                lives = lives - 1 # takes away a life if wrong\n",
        "                print('Letter is not in word.')\n",
        "\n",
        "        elif user_letter in used_letters:\n",
        "            print('You have already used that character. Please try again.')\n",
        "\n",
        "        else:\n",
        "            print('Invalid character. Please try again.')\n",
        "\n",
        "    # gets here when len(word_letters) == 0 or lives == 0\n",
        "    if lives == 0:\n",
        "        print('You died, sorry. The word was', word)\n",
        "    else:\n",
        "        print('You guessed the word', word, '!!')\n",
        "\n",
        "\n",
        "hangman()\n"
      ]
    }
  ],
  "metadata": {
    "colab": {
      "provenance": []
    },
    "kernelspec": {
      "display_name": "Python 3",
      "name": "python3"
    },
    "language_info": {
      "name": "python"
    }
  },
  "nbformat": 4,
  "nbformat_minor": 0
}