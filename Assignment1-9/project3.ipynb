{
  "nbformat": 4,
  "nbformat_minor": 0,
  "metadata": {
    "colab": {
      "provenance": []
    },
    "kernelspec": {
      "name": "python3",
      "display_name": "Python 3"
    },
    "language_info": {
      "name": "python"
    }
  },
  "cells": [
    {
      "cell_type": "markdown",
      "source": [
        " You will build a guessing game where the computer has to guess the correct number. You will work with Python's random module, build functions, work with while loops and conditionals, and get user input."
      ],
      "metadata": {
        "id": "z48_BZHnOy6O"
      }
    },
    {
      "cell_type": "code",
      "source": [
        "import random\n",
        "\n",
        "def computer_guess(lower_bound, upper_bound):\n",
        "  \"\"\"Plays a number guessing game where the computer guesses the user's number.\n",
        "\n",
        "  Args:\n",
        "    lower_bound: The lower bound of the range of numbers to guess from.\n",
        "    upper_bound: The upper bound of the range of numbers to guess from.\n",
        "\n",
        "  Returns:\n",
        "    The number of guesses the computer took to guess the correct number.\n",
        "  \"\"\"\n",
        "  print(f\"Think of a number between {lower_bound} and {upper_bound}.\")\n",
        "  low = lower_bound\n",
        "  high = upper_bound\n",
        "  guess_count = 0\n",
        "\n",
        "  while low <= high:\n",
        "    guess = random.randint(low, high)\n",
        "    guess_count += 1\n",
        "\n",
        "    print(f\"Is your number {guess}?\")\n",
        "    response = input(\"Enter 'h' if it's too high, 'l' if it's too low, or 'c' if it's correct: \").lower()\n",
        "\n",
        "    if response == 'h':\n",
        "      high = guess - 1\n",
        "    elif response == 'l':\n",
        "      low = guess + 1\n",
        "    elif response == 'c':\n",
        "      print(f\"I guessed it in {guess_count} tries!\")\n",
        "      return guess_count\n",
        "    else:\n",
        "      print(\"Invalid input. Please enter 'h', 'l', or 'c'.\")\n",
        "\n",
        "  return guess_count  # Should not reach here in normal gameplay\n",
        "\n",
        "# Get the range of numbers from the user\n",
        "lower_bound = int(input(\"Enter the lower bound: \"))\n",
        "upper_bound = int(input(\"Enter the upper bound: \"))\n",
        "\n",
        "# Start the game\n",
        "computer_guess(lower_bound, upper_bound)"
      ],
      "metadata": {
        "colab": {
          "base_uri": "https://localhost:8080/"
        },
        "id": "0QJEAIeFO26b",
        "outputId": "c8a8e2ed-a6ca-45f5-8288-5df9f01127c8"
      },
      "execution_count": null,
      "outputs": [
        {
          "output_type": "stream",
          "name": "stdout",
          "text": [
            "Enter the lower bound: 0\n",
            "Enter the upper bound: 100\n",
            "Think of a number between 0 and 100.\n",
            "Is your number 22?\n",
            "Enter 'h' if it's too high, 'l' if it's too low, or 'c' if it's correct: l\n",
            "Is your number 75?\n",
            "Enter 'h' if it's too high, 'l' if it's too low, or 'c' if it's correct: l\n",
            "Is your number 95?\n",
            "Enter 'h' if it's too high, 'l' if it's too low, or 'c' if it's correct: l\n",
            "Is your number 98?\n",
            "Enter 'h' if it's too high, 'l' if it's too low, or 'c' if it's correct: l\n",
            "Is your number 100?\n",
            "Enter 'h' if it's too high, 'l' if it's too low, or 'c' if it's correct: c\n",
            "I guessed it in 5 tries!\n"
          ]
        },
        {
          "output_type": "execute_result",
          "data": {
            "text/plain": [
              "5"
            ]
          },
          "metadata": {},
          "execution_count": 1
        }
      ]
    },
    {
      "cell_type": "markdown",
      "source": [],
      "metadata": {
        "id": "0pJZekoQOsUb"
      }
    }
  ]
}