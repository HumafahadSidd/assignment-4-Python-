{
  "nbformat": 4,
  "nbformat_minor": 0,
  "metadata": {
    "colab": {
      "provenance": []
    },
    "kernelspec": {
      "name": "python3",
      "display_name": "Python 3"
    },
    "language_info": {
      "name": "python"
    }
  },
  "cells": [
    {
      "cell_type": "markdown",
      "source": [
        "#Rock, paper, scissors Python Project\n",
        "In this Kylie Ying tutorial, you will work with random.choice(), if statements, and getting user input. This is a great project to help you build on the fundamentals like conditionals and functions."
      ],
      "metadata": {
        "id": "SUS3Z0NkDJX1"
      }
    },
    {
      "cell_type": "code",
      "source": [
        "import random\n",
        "\n",
        "user_choice = input(\"Choose rock, paper, or scissors: \")\n",
        "computer_choice = random.choice([\"rock\", \"paper\", \"scissors\"]) # list\n",
        "\n",
        "if user_choice == computer_choice:\n",
        "    print(\"It's a tie!\")\n",
        "elif user_choice == \"rock\" and computer_choice == \"scissors\":  #and is logical operator ,True if both conditions are True\n",
        "    print(\"You win!\")\n",
        "elif user_choice == \"paper\" and computer_choice == \"rock\":\n",
        "    print(\"You win!\")\n",
        "elif user_choice == \"scissors\" and computer_choice == \"paper\":\n",
        "    print(\"You win!\")\n",
        "else:\n",
        "    print(\"You lose!\")\n",
        "\n",
        "print(f\"You chose {user_choice}, and the computer chose {computer_choice}.\")"
      ],
      "metadata": {
        "id": "XdI62RQfHuDK",
        "outputId": "4b0d243d-ab2c-431a-be4f-5441f9d14ac1",
        "colab": {
          "base_uri": "https://localhost:8080/"
        }
      },
      "execution_count": null,
      "outputs": [
        {
          "output_type": "stream",
          "name": "stdout",
          "text": [
            "Choose rock, paper, or scissors: rock\n",
            "You win!\n",
            "You chose rock, and the computer chose scissors.\n"
          ]
        }
      ]
    },
    {
      "cell_type": "code",
      "source": [],
      "metadata": {
        "id": "Det-n7g6Hqy5"
      },
      "execution_count": null,
      "outputs": []
    }
  ]
}