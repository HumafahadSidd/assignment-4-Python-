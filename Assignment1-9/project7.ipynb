{
  "nbformat": 4,
  "nbformat_minor": 0,
  "metadata": {
    "colab": {
      "provenance": []
    },
    "kernelspec": {
      "name": "python3",
      "display_name": "Python 3"
    },
    "language_info": {
      "name": "python"
    }
  },
  "cells": [
    {
      "cell_type": "markdown",
      "source": [
        "#Password Generator Python Project\n",
        "In this Code With Tomi tutorial, you will learn how to build a random password generator. You will collect data from the user on the number of passwords and their lengths and output a collection of passwords with random characters."
      ],
      "metadata": {
        "id": "PETwMTBNbwSK"
      }
    },
    {
      "cell_type": "code",
      "source": [
        "import random\n",
        "import string\n",
        "\n",
        "def generate_password(length):\n",
        "    \"\"\"Generates a random password of specified length.\"\"\"\n",
        "    characters = string.ascii_letters + string.digits + string.punctuation\n",
        "    password = ''.join(random.choice(characters) for _ in range(length))\n",
        "    return password\n",
        "\n",
        "num_passwords = int(input(\"Enter the number of passwords to generate: \"))\n",
        "password_length = int(input(\"Enter the desired password length: \"))\n",
        "\n",
        "for _ in range(num_passwords):\n",
        "    password = generate_password(password_length)\n",
        "    print(password)"
      ],
      "metadata": {
        "colab": {
          "base_uri": "https://localhost:8080/"
        },
        "id": "QObId3fybzgm",
        "outputId": "f5b8618e-b86c-47f9-8b31-e2152a7d116f"
      },
      "execution_count": null,
      "outputs": [
        {
          "output_type": "stream",
          "name": "stdout",
          "text": [
            "Enter the number of passwords to generate: 9\n",
            "Enter the desired password length: 5\n",
            "s%Ti;\n",
            "7wlr\"\n",
            "<L@ib\n",
            "BWzC.\n",
            "\"i$|B\n",
            "$*K4y\n",
            "Y[\\Z(\n",
            "3O@qQ\n",
            "-s<(2\n"
          ]
        }
      ]
    }
  ]
}