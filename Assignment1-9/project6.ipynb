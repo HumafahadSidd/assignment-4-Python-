{
  "nbformat": 4,
  "nbformat_minor": 0,
  "metadata": {
    "colab": {
      "provenance": []
    },
    "kernelspec": {
      "name": "python3",
      "display_name": "Python 3"
    },
    "language_info": {
      "name": "python"
    }
  },
  "cells": [
    {
      "cell_type": "code",
      "execution_count": null,
      "metadata": {
        "id": "CcdFUwS9asKR"
      },
      "outputs": [],
      "source": []
    },
    {
      "cell_type": "markdown",
      "source": [
        "#Countdown Timer Python Project\n",
        "In this Code With Tomi tutorial, you will learn how to build a countdown timer using the time Python module. This is a great beginner project to get you used to working with while loops in Python."
      ],
      "metadata": {
        "id": "HG3ksl9tavnW"
      }
    },
    {
      "cell_type": "code",
      "source": [
        "import time\n",
        "\n",
        "def countdown(t):\n",
        "    while t:\n",
        "        mins, secs = divmod(t, 60)\n",
        "        timer = '{:02d}:{:02d}'.format(mins, secs)\n",
        "        print(timer, end=\"\\r\")\n",
        "        time.sleep(1)\n",
        "        t -= 1\n",
        "    print('You are seeiing this code after a delay of your given time !')\n",
        "\n",
        "# Input for countdown time in seconds\n",
        "t = input(\"Enter the time in seconds: \")\n",
        "\n",
        "# Convert input to integer\n",
        "t = int(t)\n",
        "\n",
        "# Start the countdown\n",
        "countdown(t)"
      ],
      "metadata": {
        "colab": {
          "base_uri": "https://localhost:8080/"
        },
        "id": "qC1sIRoja3U_",
        "outputId": "202b3044-4229-489e-ca74-66b8e8bf60a5"
      },
      "execution_count": null,
      "outputs": [
        {
          "output_type": "stream",
          "name": "stdout",
          "text": [
            "Enter the time in seconds: 4\n",
            "You are seeiing this code after a delay of your given time !\n"
          ]
        }
      ]
    },
    {
      "cell_type": "code",
      "source": [],
      "metadata": {
        "id": "ds1rcptobIAC"
      },
      "execution_count": null,
      "outputs": []
    },
    {
      "cell_type": "markdown",
      "source": [],
      "metadata": {
        "id": "8X_5_w1Ma1Lz"
      }
    }
  ]
}