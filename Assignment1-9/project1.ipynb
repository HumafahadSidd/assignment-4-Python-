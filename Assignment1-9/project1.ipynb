{
  "nbformat": 4,
  "nbformat_minor": 0,
  "metadata": {
    "colab": {
      "provenance": []
    },
    "kernelspec": {
      "name": "python3",
      "display_name": "Python 3"
    },
    "language_info": {
      "name": "python"
    }
  },
  "cells": [
    {
      "cell_type": "markdown",
      "source": [
        "### Kylie-yang project.using madlib\n",
        "#What is Mad Libs?\n",
        "\n",
        "Mad Libs is a word game where you have a story with blanks in it. These blanks are labeled with the type of word you need to fill in, such as a noun, verb, adjective, or adverb. You fill in the blanks without knowing the context of the story, and the result is often a funny and nonsensical story."
      ],
      "metadata": {
        "id": "NUTPrcfPKC4T"
      }
    },
    {
      "cell_type": "code",
      "source": [
        "# Get user input for the blanks in the story\n",
        "adjective = input(\"Enter an adjective: \")\n",
        "noun1 = input(\"Enter a noun: \")\n",
        "verb1 = input(\"Enter a verb ending in -ing: \")\n",
        "noun2 = input(\"Enter another noun: \")\n",
        "verb2 = input(\"Enter another verb ending in -ing: \")\n",
        "adjective2 = input(\"Enter another adjective: \")\n",
        "noun3 = input(\"Enter one more noun: \")\n",
        "\n",
        "# Create the story using the user input\n",
        "story = f\"It was a {adjective} day. I went to the store to buy a {noun1}. \\\n",
        "On the way, I saw a {noun2} {verb1} down the street. \\\n",
        "I started {verb2} because it was so {adjective2}. \\\n",
        "I decided to go home and eat a {noun3}.\"\n",
        "\n",
        "# Print the completed story\n",
        "print(story)"
      ],
      "metadata": {
        "colab": {
          "base_uri": "https://localhost:8080/"
        },
        "id": "uufy9DL7KUh2",
        "outputId": "6d633b6b-39ee-4483-bfba-74c9d1871b32"
      },
      "execution_count": null,
      "outputs": [
        {
          "output_type": "stream",
          "name": "stdout",
          "text": [
            "Enter an adjective: fast\n",
            "Enter a noun: john\n",
            "Enter a verb ending in -ing: pooking\n",
            "Enter another noun: ranjha\n",
            "Enter another verb ending in -ing: sleeping and eating hehehe...\n",
            "Enter another adjective: bravest\n",
            "Enter one more noun: pihu\n",
            "It was a fast day. I went to the store to buy a john. On the way, I saw a ranjha pooking down the street. I started sleeping and eating hehehe... because it was so bravest. I decided to go home and eat a pihu.\n"
          ]
        }
      ]
    },
    {
      "cell_type": "markdown",
      "source": [],
      "metadata": {
        "id": "NHOflwxQKB-z"
      }
    }
  ]
}