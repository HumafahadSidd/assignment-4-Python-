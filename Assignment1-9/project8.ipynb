{
  "cells": [
    {
      "cell_type": "code",
      "execution_count": null,
      "metadata": {
        "id": "Lg9aR1oVLA_i"
      },
      "outputs": [],
      "source": [
        "!pip install streamlit -q"
      ]
    },
    {
      "cell_type": "code",
      "execution_count": null,
      "metadata": {
        "id": "LkqFXKuFLN2M"
      },
      "outputs": [],
      "source": [
        "!pip install pyngrok -q"
      ]
    },
    {
      "cell_type": "code",
      "execution_count": null,
      "metadata": {
        "id": "Bi_GZMpcLorL"
      },
      "outputs": [],
      "source": [
        "from google.colab import userdata\n",
        "from pyngrok import ngrok\n",
        "pyngrok_token=userdata.get('pyngrok_auth_login')"
      ]
    },
    {
      "cell_type": "code",
      "execution_count": null,
      "metadata": {
        "id": "StOgrD_aMCua"
      },
      "outputs": [],
      "source": [
        "file=open(\"app.py\",\"w\")\n",
        "file.write( \"\"\"\n",
        "import streamlit as st\n",
        "\n",
        "st.title(\"BMI Calculator\")\n",
        "\n",
        "weight = st.number_input(\"Enter your weight in kilograms:\")\n",
        "height = st.number_input(\"Enter your height in meters:\")\n",
        "\n",
        "if weight and height:\n",
        "    bmi = weight / (height ** 2)\n",
        "    st.write(\"Your BMI is:\", bmi)\n",
        "\n",
        "    if bmi < 18.5:\n",
        "        st.write(\"You are underweight.\")\n",
        "    elif 18.5 <= bmi < 25:\n",
        "        st.write(\"You are in a healthy weight range.\")\n",
        "    elif 25 <= bmi < 30:\n",
        "        st.write(\"You are overweight.\")\n",
        "    else:\n",
        "        st.write(\"You are obese.\")\n",
        "  \"\"\")\n",
        "file.close()"
      ]
    },
    {
      "cell_type": "code",
      "execution_count": null,
      "metadata": {
        "id": "cpr5LPV_hgtK",
        "colab": {
          "base_uri": "https://localhost:8080/"
        },
        "outputId": "47423123-9825-4177-9116-03840a990a37"
      },
      "outputs": [
        {
          "output_type": "stream",
          "name": "stdout",
          "text": [
            "Authtoken saved to configuration file: /root/.config/ngrok/ngrok.yml\n"
          ]
        }
      ],
      "source": [
        "!ngrok authtoken {pyngrok_token}"
      ]
    },
    {
      "cell_type": "code",
      "execution_count": null,
      "metadata": {
        "colab": {
          "base_uri": "https://localhost:8080/",
          "height": 35
        },
        "id": "WhH-Y3eSMrXq",
        "outputId": "1ba1662a-18d2-48eb-c227-b19ddc9bbe17"
      },
      "outputs": [
        {
          "output_type": "execute_result",
          "data": {
            "text/plain": [
              "'https://5424-34-127-0-248.ngrok-free.app'"
            ],
            "application/vnd.google.colaboratory.intrinsic+json": {
              "type": "string"
            }
          },
          "metadata": {},
          "execution_count": 32
        }
      ],
      "source": [
        "\n",
        "public_url = ngrok.connect(8501, proto=\"http\").public_url\n",
        "public_url"
      ]
    },
    {
      "cell_type": "code",
      "execution_count": null,
      "metadata": {
        "colab": {
          "base_uri": "https://localhost:8080/"
        },
        "id": "vfh6YYVkM8fk",
        "outputId": "b0867037-8133-475b-d368-7b76d377531d"
      },
      "outputs": [
        {
          "output_type": "stream",
          "name": "stdout",
          "text": [
            "\n",
            "Collecting usage statistics. To deactivate, set browser.gatherUsageStats to false.\n",
            "\u001b[0m\n",
            "\u001b[0m\n",
            "\u001b[34m\u001b[1m  You can now view your Streamlit app in your browser.\u001b[0m\n",
            "\u001b[0m\n",
            "\u001b[34m  Local URL: \u001b[0m\u001b[1mhttp://localhost:8501\u001b[0m\n",
            "\u001b[34m  Network URL: \u001b[0m\u001b[1mhttp://172.28.0.12:8501\u001b[0m\n",
            "\u001b[34m  External URL: \u001b[0m\u001b[1mhttp://34.127.0.248:8501\u001b[0m\n",
            "\u001b[0m\n"
          ]
        }
      ],
      "source": [
        "!streamlit run app.py"
      ]
    }
  ],
  "metadata": {
    "colab": {
      "provenance": []
    },
    "kernelspec": {
      "display_name": "Python 3",
      "name": "python3"
    },
    "language_info": {
      "name": "python"
    }
  },
  "nbformat": 4,
  "nbformat_minor": 0
}