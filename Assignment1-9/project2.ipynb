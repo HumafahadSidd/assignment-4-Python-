{
  "nbformat": 4,
  "nbformat_minor": 0,
  "metadata": {
    "colab": {
      "provenance": []
    },
    "kernelspec": {
      "name": "python3",
      "display_name": "Python 3"
    },
    "language_info": {
      "name": "python"
    }
  },
  "cells": [
    {
      "cell_type": "code",
      "execution_count": null,
      "metadata": {
        "id": "jJdKLKnDK-gS"
      },
      "outputs": [],
      "source": []
    },
    {
      "cell_type": "markdown",
      "source": [
        "##number-guessing game"
      ],
      "metadata": {
        "id": "tkPdUicNLRzO"
      }
    },
    {
      "cell_type": "markdown",
      "source": [],
      "metadata": {
        "id": "0OPS1n3mLQfY"
      }
    },
    {
      "cell_type": "code",
      "source": [
        "import random\n",
        "\n",
        "number = random.randint(1, 9)\n",
        "guess_number = 0  # Initialize guess_number\n",
        "\n",
        "while number != guess_number:\n",
        "    guess_number = int(input('Guess the number between 1-9? '))\n",
        "\n",
        "    if number == guess_number:\n",
        "        print('You won!')\n",
        "    elif number > guess_number:  # Corrected the condition here\n",
        "        print('You are too low')\n",
        "    else:\n",
        "        print('You are too high')\n",
        "\n",
        "print(\"Thanks for playing!\")"
      ],
      "metadata": {
        "id": "UfC5QQBILcho"
      },
      "execution_count": null,
      "outputs": []
    },
    {
      "cell_type": "markdown",
      "source": [],
      "metadata": {
        "id": "BYAFdqGELORN"
      }
    }
  ]
}