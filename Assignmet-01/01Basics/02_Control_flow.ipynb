{
  "nbformat": 4,
  "nbformat_minor": 0,
  "metadata": {
    "colab": {
      "provenance": []
    },
    "kernelspec": {
      "name": "python3",
      "display_name": "Python 3"
    },
    "language_info": {
      "name": "python"
    }
  },
  "cells": [
    {
      "cell_type": "markdown",
      "source": [
        "We want you to gain more experience working with control flow and Booleans in Python. To do this, we are going to have you develop a game! The game is called High-Low and the way it's played goes as follows:\n",
        "\n",
        "Two numbers are generated from 1 to 100 (inclusive on both ends): one for you and one for a computer, who will be your opponent. You can see your number, but not the computer's!\n",
        "\n",
        "You make a guess, saying your number is either higher than or lower than the computer's number\n",
        "\n",
        "If your guess matches the truth (ex. you guess your number is higher, and then your number is actually higher than the computer's), you get a point!\n",
        "\n",
        "These steps make up one round of the game. The game is over after all rounds have been played."
      ],
      "metadata": {
        "id": "YRSyBefPszvi"
      }
    },
    {
      "cell_type": "code",
      "source": [
        "import random\n",
        "\n",
        "def high_low_game(rounds):\n",
        "    score = 0\n",
        "    print(\"Welcome to High-Low!\")\n",
        "\n",
        "    for _ in range(rounds):\n",
        "        user_number = random.randint(1, 100)\n",
        "        computer_number = random.randint(1, 100)\n",
        "\n",
        "        print(f\"\\nYour number is: {user_number}\")\n",
        "        guess = input(\"Do you think your number is 'higher' or 'lower' than the computer's? \").lower()\n",
        "\n",
        "        if guess not in ['higher', 'lower']:\n",
        "            print(\"Invalid input! Please enter 'higher' or 'lower'.\")\n",
        "            continue\n",
        "\n",
        "        if (guess == 'higher' and user_number > computer_number) or (guess == 'lower' and user_number < computer_number):\n",
        "            print(\"Correct guess! You earn a point.\")\n",
        "            score += 1\n",
        "        else:\n",
        "            print(\"Wrong guess! Better luck next time.\")\n",
        "\n",
        "        print(f\"The computer's number was: {computer_number}\")\n",
        "\n",
        "    print(f\"\\nGame Over! Your total score is: {score}\")\n",
        "\n",
        "# Start the game\n",
        "rounds = int(input(\"How many rounds would you like to play? \"))\n",
        "high_low_game(rounds)"
      ],
      "metadata": {
        "colab": {
          "base_uri": "https://localhost:8080/"
        },
        "id": "0aRircTotEpl",
        "outputId": "a45f3db2-e2b8-4e8e-dc23-a352070f664b"
      },
      "execution_count": 14,
      "outputs": [
        {
          "output_type": "stream",
          "name": "stdout",
          "text": [
            "How many rounds would you like to play? 2\n",
            "Welcome to High-Low!\n",
            "\n",
            "Your number is: 91\n",
            "Do you think your number is 'higher' or 'lower' than the computer's? lower\n",
            "Correct guess! You earn a point.\n",
            "The computer's number was: 98\n",
            "\n",
            "Your number is: 61\n",
            "Do you think your number is 'higher' or 'lower' than the computer's? higgher\n",
            "Invalid input! Please enter 'higher' or 'lower'.\n",
            "\n",
            "Game Over! Your total score is: 1\n"
          ]
        }
      ]
    },
    {
      "cell_type": "markdown",
      "source": [
        "A few years ago, NASA made history with the first controlled flight on another planet. Its latest Mars Rover, Perseverance, has onboard a 50cm high helicopter called Ingenuity. Ingenuity made its third flight, during which it flew faster and further than it had on any of its test flights on Earth. Interestingly, Ingenuity uses Python for some of its flight modeling software!\n",
        "\n",
        "Ingenuity on the surface of Mars (source: NASA)\n",
        "\n",
        "When programming Ingenuity, one of the things that NASA engineers need to account for is the fact that due to the weaker gravity on Mars, an Earthling's weight on Mars is 37.8% of their weight on Earth. Write a Python program that prompts an Earthling to enter their weight on Earth and prints their calculated weight on Mars.\n",
        "\n",
        "The output should be rounded to two decimal places when necessary. Python has a round function which can help you with this. You pass in the value to be rounded and the number of decimal places to use. In the example below, the number 3.1415926 is rounded to 2 decimal places which is 3.14."
      ],
      "metadata": {
        "id": "o898eMAKwkRY"
      }
    },
    {
      "cell_type": "code",
      "source": [
        "# Mars weight calculator\n",
        "def mars_weight():\n",
        "    # Prompt the user for their weight on Earth\n",
        "    earth_weight = float(input(\"Enter your weight on Earth (in kg): \"))\n",
        "\n",
        "    # Calculate weight on Mars (37.8% of Earth's weight)\n",
        "    mars_weight = earth_weight * 0.378\n",
        "\n",
        "    # Round to two decimal places\n",
        "    mars_weight_rounded = round(mars_weight, 2)\n",
        "\n",
        "    # Print the result\n",
        "    print(f\"Your weight on Mars would be: {mars_weight_rounded} kg\")\n",
        "\n",
        "# Call the function\n",
        "mars_weight()"
      ],
      "metadata": {
        "colab": {
          "base_uri": "https://localhost:8080/"
        },
        "id": "wDKgZ7ZgwrmD",
        "outputId": "97dec1de-2598-4de1-ad40-c6b289001bec"
      },
      "execution_count": 15,
      "outputs": [
        {
          "output_type": "stream",
          "name": "stdout",
          "text": [
            "Enter your weight on Earth (in kg): 43\n",
            "Your weight on Mars would be: 16.25 kg\n"
          ]
        }
      ]
    },
    {
      "cell_type": "markdown",
      "source": [
        "Milestone #2: Adding in All Planets\n",
        "Mars is not the only planet in our solar system with its own unique gravity. In fact, each planet has a different gravitational constant, which affects how much an object would weigh on that planet. Below is a list of the constants for each planet compared to Earth's gravity:\n",
        "\n",
        "Mercury: 37.6%\n",
        "\n",
        "Venus: 88.9%\n",
        "\n",
        "Mars: 37.8%\n",
        "\n",
        "Jupiter: 236.0%\n",
        "\n",
        "Saturn: 108.1%\n",
        "\n",
        "Uranus: 81.5%\n",
        "\n",
        "Neptune: 114.0%\n",
        "\n",
        "Write a Python program that prompts an Earthling to enter their weight on Earth and then to enter the name of a planet in our solar system. The program should print the equivalent weight on that planet rounded to 2 decimal places if necessary.\n",
        "\n",
        "You can assume that the user will always type in a planet with the first letter capitalized and you do not need to worry about the case where they type in something other than one of the above planets."
      ],
      "metadata": {
        "id": "gVmgsupJw-tT"
      }
    },
    {
      "cell_type": "code",
      "source": [
        "# Weight calculator for all planets in the solar system\n",
        "def planet_weight_calculator():\n",
        "    # Gravitational constants for planets as a dictionary\n",
        "    gravity_factors = {\n",
        "        \"Mercury\": 0.376,\n",
        "        \"Venus\": 0.889,\n",
        "        \"Mars\": 0.378,\n",
        "        \"Jupiter\": 2.36,\n",
        "        \"Saturn\": 1.081,\n",
        "        \"Uranus\": 0.815,\n",
        "        \"Neptune\": 1.14\n",
        "    }\n",
        "\n",
        "    # Prompt the user for their weight on Earth\n",
        "    earth_weight = float(input(\"Enter your weight on Earth (in kg): \"))\n",
        "\n",
        "    # Prompt the user for the name of a planet\n",
        "    planet_name = input(\"Enter the name of a planet in our solar system: \").capitalize()\n",
        "\n",
        "    # Check if the planet is in the dictionary\n",
        "    if planet_name in gravity_factors:\n",
        "        # Calculate weight on the chosen planet\n",
        "        planet_weight = earth_weight * gravity_factors[planet_name]\n",
        "        planet_weight_rounded = round(planet_weight, 2)\n",
        "\n",
        "        # Display the result\n",
        "        print(f\"Your weight on {planet_name} would be: {planet_weight_rounded} kg\")\n",
        "    else:\n",
        "        print(\"Invalid planet name. Please enter a valid planet.\")\n",
        "\n",
        "# Call the function\n",
        "planet_weight_calculator()"
      ],
      "metadata": {
        "colab": {
          "base_uri": "https://localhost:8080/"
        },
        "id": "-qrv2QDNxCX7",
        "outputId": "80de1884-0962-464c-cba6-0c6d60555963"
      },
      "execution_count": 16,
      "outputs": [
        {
          "output_type": "stream",
          "name": "stdout",
          "text": [
            "Enter your weight on Earth (in kg): 45\n",
            "Enter the name of a planet in our solar system: mars\n",
            "Your weight on Mars would be: 17.01 kg\n"
          ]
        }
      ]
    },
    {
      "cell_type": "markdown",
      "source": [
        "As a warmup, read this code and play the game a few times. Use this mental model of the list:\n",
        "\n",
        "Objective:\n",
        "Create a Python program that helps you practice accessing and manipulating elements in a list. This exercise will help you get comfortable with indexing, slicing, and modifying list elements.\n",
        "\n",
        "Instructions:\n",
        "Initialize a List:\n",
        "Create a list with at least 5 different elements. They can be numbers, strings, or a mix of both.\n",
        "\n",
        "Accessing Elements:\n",
        "Write a function that:\n",
        "\n",
        "Accepts a list and an index as inputs.\n",
        "Returns the element at the specified index.\n",
        "If the index is out of range, return an appropriate message.\n",
        "Modifying Elements:\n",
        "Write a function that:\n",
        "\n",
        "Accepts a list, an index, and a new value as inputs.\n",
        "Replaces the element at the specified index with the new value.\n",
        "If the index is out of range, return an appropriate message.\n",
        "Slicing the List:\n",
        "Write a function that:\n",
        "\n",
        "Accepts a list, a start index, and an end index as inputs.\n",
        "Returns a new list containing the elements from the start index up to (but not including) the end index.\n",
        "Handles cases where the indices are out of range.\n",
        "Game Interaction:\n",
        "Create a simple text-based game that:\n",
        "\n",
        "Prompts the user to select an operation (access, modify, slice).\n",
        "Asks for the necessary inputs (index, new value, etc.).\n",
        "Displays the result and the updated list."
      ],
      "metadata": {
        "id": "NWUBL7S1xtfJ"
      }
    },
    {
      "cell_type": "markdown",
      "source": [],
      "metadata": {
        "id": "Oj95p9DXxtZq"
      }
    },
    {
      "cell_type": "code",
      "execution_count": null,
      "metadata": {
        "id": "GRekQg9Msl2k"
      },
      "outputs": [],
      "source": []
    },
    {
      "cell_type": "code",
      "source": [
        "# Initialize a list with at least 5 elements\n",
        "my_list = [10, \"hello\", 42.5, \"world\", True]\n",
        "\n",
        "# Function to access elements\n",
        "def access_element(lst, index):\n",
        "    try:\n",
        "        return lst[index]\n",
        "    except IndexError:\n",
        "        return \"Index out of range!\"\n",
        "\n",
        "# Function to modify elements\n",
        "def modify_element(lst, index, new_value):\n",
        "    try:\n",
        "        lst[index] = new_value\n",
        "        return lst\n",
        "    except IndexError:\n",
        "        return \"Index out of range!\"\n",
        "\n",
        "# Function to slice the list\n",
        "def slice_list(lst, start_index, end_index):\n",
        "    try:\n",
        "        return lst[start_index:end_index]\n",
        "    except (IndexError, ValueError):\n",
        "        return \"Invalid index range!\"\n",
        "\n",
        "# Game interaction function\n",
        "def list_game():\n",
        "    print(\"Welcome to the List Manipulation Game!\")\n",
        "    print(f\"Here is the list: {my_list}\")\n",
        "\n",
        "    while True:\n",
        "        # Prompt user for operation\n",
        "        print(\"\\nChoose an operation:\")\n",
        "        print(\"1. Access an element\")\n",
        "        print(\"2. Modify an element\")\n",
        "        print(\"3. Slice the list\")\n",
        "        print(\"4. Quit the game\")\n",
        "\n",
        "        choice = input(\"Enter your choice (1-4): \")\n",
        "\n",
        "        if choice == '1':  # Access\n",
        "            index = int(input(\"Enter the index of the element you want to access: \"))\n",
        "            result = access_element(my_list, index)\n",
        "            print(f\"Result: {result}\")\n",
        "\n",
        "        elif choice == '2':  # Modify\n",
        "            index = int(input(\"Enter the index of the element you want to modify: \"))\n",
        "            new_value = input(\"Enter the new value: \")\n",
        "            result = modify_element(my_list, index, new_value)\n",
        "            print(f\"Updated list: {result}\")\n",
        "\n",
        "        elif choice == '3':  # Slice\n",
        "            start_index = int(input(\"Enter the start index: \"))\n",
        "            end_index = int(input(\"Enter the end index: \"))\n",
        "            result = slice_list(my_list, start_index, end_index)\n",
        "            print(f\"Sliced list: {result}\")\n",
        "\n",
        "        elif choice == '4':  # Quit\n",
        "            print(\"Thank you for playing!\")\n",
        "            break\n",
        "\n",
        "        else:\n",
        "            print(\"Invalid choice! Please select 1, 2, 3, or 4.\")\n",
        "\n",
        "# Start the game\n",
        "list_game()"
      ],
      "metadata": {
        "colab": {
          "base_uri": "https://localhost:8080/"
        },
        "id": "0Ja-cA8oxhvd",
        "outputId": "a6c8642a-f16c-486f-dfb0-1a8afaa1f75a"
      },
      "execution_count": 17,
      "outputs": [
        {
          "output_type": "stream",
          "name": "stdout",
          "text": [
            "Welcome to the List Manipulation Game!\n",
            "Here is the list: [10, 'hello', 42.5, 'world', True]\n",
            "\n",
            "Choose an operation:\n",
            "1. Access an element\n",
            "2. Modify an element\n",
            "3. Slice the list\n",
            "4. Quit the game\n",
            "Enter your choice (1-4): 3\n",
            "Enter the start index: 2\n",
            "Enter the end index: 5\n",
            "Sliced list: [42.5, 'world', True]\n",
            "\n",
            "Choose an operation:\n",
            "1. Access an element\n",
            "2. Modify an element\n",
            "3. Slice the list\n",
            "4. Quit the game\n",
            "Enter your choice (1-4): 1\n",
            "Enter the index of the element you want to access: 1\n",
            "Result: hello\n",
            "\n",
            "Choose an operation:\n",
            "1. Access an element\n",
            "2. Modify an element\n",
            "3. Slice the list\n",
            "4. Quit the game\n",
            "Enter your choice (1-4): 3\n",
            "Enter the start index: 4\n",
            "Enter the end index: 5\n",
            "Sliced list: [True]\n",
            "\n",
            "Choose an operation:\n",
            "1. Access an element\n",
            "2. Modify an element\n",
            "3. Slice the list\n",
            "4. Quit the game\n",
            "Enter your choice (1-4): 2\n",
            "Enter the index of the element you want to modify: 4\n",
            "Enter the new value: 6\n",
            "Updated list: [10, 'hello', 42.5, 'world', '6']\n",
            "\n",
            "Choose an operation:\n",
            "1. Access an element\n",
            "2. Modify an element\n",
            "3. Slice the list\n",
            "4. Quit the game\n",
            "Enter your choice (1-4): 1\n",
            "Enter the index of the element you want to access: 2\n",
            "Result: 42.5\n",
            "\n",
            "Choose an operation:\n",
            "1. Access an element\n",
            "2. Modify an element\n",
            "3. Slice the list\n",
            "4. Quit the game\n",
            "Enter your choice (1-4): 5\n",
            "Invalid choice! Please select 1, 2, 3, or 4.\n",
            "\n",
            "Choose an operation:\n",
            "1. Access an element\n",
            "2. Modify an element\n",
            "3. Slice the list\n",
            "4. Quit the game\n",
            "Enter your choice (1-4): 4\n",
            "Thank you for playing!\n"
          ]
        }
      ]
    }
  ]
}