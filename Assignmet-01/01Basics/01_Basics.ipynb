{
  "nbformat": 4,
  "nbformat_minor": 0,
  "metadata": {
    "colab": {
      "provenance": []
    },
    "kernelspec": {
      "name": "python3",
      "display_name": "Python 3"
    },
    "language_info": {
      "name": "python"
    }
  },
  "cells": [
    {
      "cell_type": "markdown",
      "source": [
        "Write a simple joke bot. The bot starts by asking the user what they want. However, your program will only respond to one response: Joke.\n",
        "\n",
        "If the user enters Joke then we will print out a single joke. Each time the joke is always the same:\n",
        "\n",
        "Here is a joke for you! Panaversity GPT - Sophia is heading out to the grocery store. A programmer tells her: get a liter of milk, and if they have eggs, get 12. Sophia returns with 13 liters of milk. The programmer asks why and Sophia replies: 'because they had eggs'\n",
        "\n",
        "If the user enters anything else we print out:\n",
        "\n",
        "Sorry I only tell jokes\n",
        "\n",
        "You should use the three constants:\n",
        "\n",
        "PROMPT JOKE SORRY\n",
        "\n",
        "which contain the strings for the prompt asked to the user, the joke to print out if the uus\n",
        "if user_input == \"Joke\":\n",
        "\n",
        "Recall that == is a comparison which tests if two values are equal to one another.\n",
        "\n",
        "Here is a full run of the program (user input is in blue):\n",
        "\n",
        "What do you want? Joke Here is a joke for you! Panaversity GPT - Sophia is heading out to the grocery store. A programmer tells her: get a liter of milk, and if they have eggs, get 12. Sophia returns with 13 liters of milk. The programmer asks why and Sophia replies: 'because they had eggs'"
      ],
      "metadata": {
        "id": "IP8eOXP_gNHi"
      }
    },
    {
      "cell_type": "code",
      "source": [
        "def joke_bot():\n",
        "  user_input = input(\"What do you want? \")\n",
        "  # if you want jake write 'Joke'\n",
        "\n",
        "  if user_input == \"Joke\":\n",
        "    print(\"Panaversity GPT - Sophia is heading out to the grocery store. A programmer tells her: get a liter of milk, and if they have eggs, get 12. Sophia returns with 13 liters of milk. The programmer asks why and Sophia replies: 'because they had eggs'\")\n",
        "  if user_input != \"Joke\":\n",
        "    print(\"Sorry I only tell jokes\")\n",
        "\n",
        "\n",
        "if __name__ == \"__main__\":\n",
        "  joke_bot()"
      ],
      "metadata": {
        "colab": {
          "base_uri": "https://localhost:8080/"
        },
        "id": "YBQZ3v_JgUz4",
        "outputId": "4eda0901-e542-4a69-bf6e-5e87c02279de"
      },
      "execution_count": 3,
      "outputs": [
        {
          "output_type": "stream",
          "name": "stdout",
          "text": [
            "What do you want? Joke\n",
            "Panaversity GPT - Sophia is heading out to the grocery store. A programmer tells her: get a liter of milk, and if they have eggs, get 12. Sophia returns with 13 liters of milk. The programmer asks why and Sophia replies: 'because they had eggs'\n"
          ]
        }
      ]
    },
    {
      "cell_type": "markdown",
      "source": [
        "Write a program that asks a user to enter a number. Your program will then double that number and print out the result. It will repeat that process until the value is 100 or greater.\n",
        "\n",
        "For example if the user enters the number 2 you would then print:\n",
        "\n",
        "4 8 16 32 64 128\n",
        "\n",
        "Note that:\n",
        "\n",
        "2 doubled is 4\n",
        "\n",
        "4 doubled is 8\n",
        "\n",
        "8 doubled is 16\n",
        "\n",
        "and so on.\n",
        "\n",
        "We stop at 128 because that value is greater than 100.\n",
        "\n",
        "Maintain the current number in a variable named curr_value. When you double the number, you should be updating curr_value. Recall that you can double the value of curr_value using a line like:\n",
        "\n",
        "curr_value = curr_value * 2\n",
        "\n",
        "This program should have a while loop and the while loop condition should test if curr_value is less than 100. Thus, your program will have the line:\n",
        "\n",
        "while curr_value < 100:"
      ],
      "metadata": {
        "id": "EucP7V3OhGz8"
      }
    },
    {
      "cell_type": "code",
      "source": [
        "def double_number():\n",
        "  curr_value = int(input(\"Enter a number: \"))\n",
        "  while curr_value < 100:\n",
        "    curr_value = curr_value * 2\n",
        "    print(curr_value)\n",
        "\n",
        "if __name__ == \"__main__\":\n",
        "  double_number()\n"
      ],
      "metadata": {
        "colab": {
          "base_uri": "https://localhost:8080/"
        },
        "id": "whpsfwsrhIH9",
        "outputId": "04f1f6d0-650d-4ad5-a030-c28c41c19fb2"
      },
      "execution_count": 4,
      "outputs": [
        {
          "output_type": "stream",
          "name": "stdout",
          "text": [
            "Enter a number: 4\n",
            "8\n",
            "16\n",
            "32\n",
            "64\n",
            "128\n"
          ]
        }
      ]
    },
    {
      "cell_type": "markdown",
      "source": [
        "Write a program that prints out the calls for a spaceship that is about to launch. Countdown from 10 to 1 and then output Liftoff!\n",
        "\n",
        "Here's a sample run of the program:\n",
        "\n",
        "10 9 8 7 6 5 4 3 2 1 Liftoff!\n",
        "\n",
        "There are many ways to solve this problem. One approach is to use a for loop, and to use the for loop variable i. Recall that i will keep track of how many times the for loop has completed executing its body. As an example this code:\n",
        "\n",
        "for i in range(10): print(i)\n",
        "\n",
        "Will print out the values 0, 1, 2, 3, 4, 5, 6, 7, 8, 9. The values printed in liftoff are 10 minus the number of times the for loop has completed."
      ],
      "metadata": {
        "id": "56tiI6lwhJL9"
      }
    },
    {
      "cell_type": "code",
      "source": [
        "def countdown():\n",
        "  for i in range(10, 0, -1):\n",
        "    print(i)\n",
        "  print(\"Liftoff!\")\n",
        "\n",
        "if __name__ == \"__main__\":\n",
        "  countdown()"
      ],
      "metadata": {
        "colab": {
          "base_uri": "https://localhost:8080/"
        },
        "id": "2yM4E1MQhMsL",
        "outputId": "9e7c01c0-9ad0-47c2-8f77-b45c30aeb033"
      },
      "execution_count": 5,
      "outputs": [
        {
          "output_type": "stream",
          "name": "stdout",
          "text": [
            "10\n",
            "9\n",
            "8\n",
            "7\n",
            "6\n",
            "5\n",
            "4\n",
            "3\n",
            "2\n",
            "1\n",
            "Liftoff!\n"
          ]
        }
      ]
    },
    {
      "cell_type": "markdown",
      "source": [
        "Guess My Number\n",
        "\n",
        "I am thinking of a number between 0 and 99... Enter a guess: 50 Your guess is too high\n",
        "\n",
        "Enter a new number: 25 Your guess is too low\n",
        "\n",
        "Enter a new number: 40 Your guess is too low\n",
        "\n",
        "Enter a new number: 45 Your guess is too low\n",
        "\n",
        "Enter a new number: 48 Congrats! The number was: 48"
      ],
      "metadata": {
        "id": "X16eGA2FhNM6"
      }
    },
    {
      "cell_type": "code",
      "source": [
        "import random\n",
        "\n",
        "def guess_my_number():\n",
        "    print(\"I am thinking of a number between 0 and 99...\")\n",
        "    random.seed()  # Reseed the random number generator to ensure variability\n",
        "    target_number = random.randint(0, 99)  # Generate a random number between 0 and 99\n",
        "    guess = None\n",
        "\n",
        "    while guess != target_number:\n",
        "        guess = int(input(\"Enter a guess: \"))  # Prompt user for a guess\n",
        "\n",
        "        if guess > target_number:\n",
        "            print(\"Your guess is too high\")\n",
        "        elif guess < target_number:\n",
        "            print(\"Your guess is too low\")\n",
        "        else:\n",
        "            print(f\"Congrats! The number was: {target_number}\")\n",
        "            break  # Exit the loop when the user guesses correctly\n",
        "\n",
        "# Run the game\n",
        "if __name__ == \"__main__\":\n",
        "    guess_my_number()"
      ],
      "metadata": {
        "colab": {
          "base_uri": "https://localhost:8080/"
        },
        "id": "myaJhUnrhRyw",
        "outputId": "5e40acdc-59f7-4810-b0be-e3411e7a5d56"
      },
      "execution_count": null,
      "outputs": [
        {
          "output_type": "stream",
          "name": "stdout",
          "text": [
            "I am thinking of a number between 0 and 99...\n",
            "Enter a guess: 4\n",
            "Your guess is too high\n",
            "Enter a guess: 5\n",
            "Your guess is too high\n",
            "Enter a guess: 7\n",
            "Your guess is too high\n",
            "Enter a guess: 98\n",
            "Your guess is too high\n"
          ]
        }
      ]
    },
    {
      "cell_type": "markdown",
      "source": [
        "Print 10 random numbers in the range 1 to 100.\n",
        "\n",
        "Here is an example run:\n",
        "\n",
        "45 79 61 47 52 10 16 83 19 12\n",
        "\n",
        "Each time you run your program you should get different numbers\n",
        "\n",
        "81 76 70 1 27 63 96 100 32 92\n",
        "\n",
        "Recall that the python random library has a function randint which returns an integer in the range set by the parameters (inclusive). For example this call would produce a random integer between 1 and 6, which could include 1 and could include 6:\n",
        "\n",
        "value = random.randint(1, 6)"
      ],
      "metadata": {
        "id": "Av70kDYShSWm"
      }
    },
    {
      "cell_type": "code",
      "execution_count": null,
      "metadata": {
        "id": "5OOVYseGgIbI"
      },
      "outputs": [],
      "source": [
        "import random\n",
        "\n",
        "def print_random_numbers():\n",
        "    \"\"\"\n",
        "    Prints 10 random numbers in the range 1 to 100.\n",
        "    Each execution of the program generates different numbers.\n",
        "    \"\"\"\n",
        "    random_numbers = [random.randint(1, 100) for _ in range(10)]\n",
        "    print(\" \".join(map(str, random_numbers)))\n",
        "\n",
        "# Run the program\n",
        "if __name__ == \"__main__\":\n",
        "    print_random_numbers()"
      ]
    }
  ]
}