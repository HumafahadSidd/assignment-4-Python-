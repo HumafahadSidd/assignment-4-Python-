{
  "nbformat": 4,
  "nbformat_minor": 0,
  "metadata": {
    "colab": {
      "provenance": []
    },
    "kernelspec": {
      "name": "python3",
      "display_name": "Python 3"
    },
    "language_info": {
      "name": "python"
    }
  },
  "cells": [
    {
      "cell_type": "markdown",
      "source": [
        "Write a function that takes two numbers and finds the average between the two."
      ],
      "metadata": {
        "id": "5urSmgvaRZcB"
      }
    },
    {
      "cell_type": "code",
      "source": [
        "def average_number():\n",
        "  num1:int=int(input(\"Enter a number:\"))\n",
        "  num2:int=int(input(\"Enter a number:\"))\n",
        "  print(num1+num2/2)\n",
        "if __name__==\"__main__\":\n",
        "  average_number()"
      ],
      "metadata": {
        "colab": {
          "base_uri": "https://localhost:8080/"
        },
        "id": "zOiIfdCuRd4T",
        "outputId": "e27fa767-e872-43a3-9e81-08c4aa270947"
      },
      "execution_count": 6,
      "outputs": [
        {
          "output_type": "stream",
          "name": "stdout",
          "text": [
            "Enter a number:5\n",
            "Enter a number:2\n",
            "6.0\n"
          ]
        }
      ]
    },
    {
      "cell_type": "markdown",
      "source": [
        "Fill out the chaotic_counting() function, which prints the numbers from 1 to 10, but with a catch. We've written a done() function which returns True with likelihood DONE_LIKELIHOOD -- at each number, before printing the number, you should call done() and check if it returns True or not. If done() returns True, we're done counting, and you should use a return statement to end the chaotic_counting() function execution and resume execution of main(), which will print \"I'm done.\". We've written main() for you -- check it out! Notice that we'll only print \"I'm done\" from main() once chaotic_counting() is done with its execution.\n",
        "\n",
        "Here's a sample run of this program:\n",
        "\n",
        "I'm going to count until 10 or until I feel like stopping, whichever comes first. 1 2 3 I'm done"
      ],
      "metadata": {
        "id": "H97qqrzES1Dl"
      }
    },
    {
      "cell_type": "code",
      "source": [
        "import random\n",
        "\n",
        "# Simulating the `done()` function, which returns True with some likelihood\n",
        "DONE_LIKELIHOOD = 0.2  # You can adjust this value to change the likelihood\n",
        "def done():\n",
        "    return random.random() < DONE_LIKELIHOOD\n",
        "\n",
        "def chaotic_counting():\n",
        "    for i in range(1, 11):  # Loop through numbers from 1 to 10\n",
        "        if done():  # Check if the `done()` function returns True\n",
        "            return  # Exit the function and return to main()\n",
        "        print(i, end=\" \")  # Print the current number\n",
        "\n",
        "def main():\n",
        "    print(\"I'm going to count until 10 or until I feel like stopping, whichever comes first.\")\n",
        "    chaotic_counting()\n",
        "    print(\"I'm done.\")\n",
        "\n",
        "# Execute the main function\n",
        "if __name__ == \"__main__\":\n",
        "    main()"
      ],
      "metadata": {
        "colab": {
          "base_uri": "https://localhost:8080/"
        },
        "id": "JyKDpgcLS2pn",
        "outputId": "aca079d4-8d25-4ef4-f21a-0d6b4d1e8cc8"
      },
      "execution_count": 7,
      "outputs": [
        {
          "output_type": "stream",
          "name": "stdout",
          "text": [
            "I'm going to count until 10 or until I feel like stopping, whichever comes first.\n",
            "1 2 3 4 5 I'm done.\n"
          ]
        }
      ]
    },
    {
      "cell_type": "markdown",
      "source": [
        "Fill out the function count_even(lst) which\n",
        "\n",
        "first populates a list by prompting the user for integers until they press enter (please use the prompt \"Enter an integer or press enter to stop: \"),\n",
        "\n",
        "and then prints the number of even numbers in the list.\n",
        "\n",
        "If you'd prefer to focus on the second task only, scroll down for our implementation of the first task!"
      ],
      "metadata": {
        "id": "GIyGDWqiTlve"
      }
    },
    {
      "cell_type": "code",
      "source": [
        "def count_even():\n",
        "    # Step 1: Populate the list by prompting the user for integers\n",
        "    lst = []  # Initialize an empty list\n",
        "    while True:\n",
        "        user_input = input(\"Enter an integer or press enter to stop: \")\n",
        "        if user_input == \"\":  # Stop when the user presses enter\n",
        "            break\n",
        "        try:\n",
        "            lst.append(int(user_input))  # Convert the input to an integer and add to the list\n",
        "        except ValueError:\n",
        "            print(\"Invalid input. Please enter an integer.\")\n",
        "\n",
        "    # Step 2: Count and print the number of even numbers in the list\n",
        "    even_count = sum(1 for num in lst if num % 2 == 0)  # Count even numbers using a generator expression\n",
        "    print(f\"The number of even numbers in the list is: {even_count}\")\n",
        "\n",
        "# Call the function\n",
        "count_even()"
      ],
      "metadata": {
        "colab": {
          "base_uri": "https://localhost:8080/"
        },
        "id": "Ue1JOF4bTm5P",
        "outputId": "3fa8ef96-7124-4de2-b200-dce15da84c8b"
      },
      "execution_count": 8,
      "outputs": [
        {
          "output_type": "stream",
          "name": "stdout",
          "text": [
            "Enter an integer or press enter to stop: 3\n",
            "Enter an integer or press enter to stop: 5\n",
            "Enter an integer or press enter to stop: 4\n",
            "Enter an integer or press enter to stop: \n",
            "The number of even numbers in the list is: 1\n"
          ]
        }
      ]
    },
    {
      "cell_type": "markdown",
      "source": [
        "Fill out the double(num) function to return the result of multiplying num by 2. We've written a main() function for you which asks the user for a number, calls your code for double(num) , and prints the result.\n",
        "\n",
        "Here's a sample run of the program (user input in bold italics):\n",
        "\n",
        "Enter a number: 2 Double that is 4"
      ],
      "metadata": {
        "id": "jGXAzV0wT3sm"
      }
    },
    {
      "cell_type": "code",
      "source": [
        "\n",
        "# Define the double function\n",
        "def double(num):\n",
        "    return num * 2  # Multiply num by 2 and return the result\n",
        "\n",
        "# Main function\n",
        "def main():\n",
        "    num = int(input(\"Enter a number: \"))  # Ask the user for a number\n",
        "    result = double(num)  # Call the double function\n",
        "    print(f\"Double that is {result}\")  # Print the result\n",
        "\n",
        "# Execute the main function\n",
        "if __name__ == \"__main__\":\n",
        "    main()"
      ],
      "metadata": {
        "colab": {
          "base_uri": "https://localhost:8080/"
        },
        "id": "ynShVSjZT6lK",
        "outputId": "9282b7d6-546c-480f-aac6-ca2799f7e225"
      },
      "execution_count": 9,
      "outputs": [
        {
          "output_type": "stream",
          "name": "stdout",
          "text": [
            "Enter a number: 3\n",
            "Double that is 6\n"
          ]
        }
      ]
    },
    {
      "cell_type": "markdown",
      "source": [
        "Fill out the get_name() function to return your name as a string! We've written a main() function for you which calls your function to retrieve your name and then prints it in a greeting.\n",
        "\n",
        "Here's a sample run of the program where the name we've decided to return is Sophia (the autograder expects the returned name to be Sophia):\n",
        "\n",
        "Howdy Sophia ! 🤠"
      ],
      "metadata": {
        "id": "oepDsAdoUWxr"
      }
    },
    {
      "cell_type": "code",
      "source": [
        "def get_name():\n",
        "    return \"Sophia\"  # Return the name as a string\n",
        "\n",
        "def main():\n",
        "    name = get_name()  # Call the get_name function\n",
        "    print(f\"Howdy {name} ! 🤠\")  # Print the greeting with the name\n",
        "\n",
        "if __name__ == \"__main__\":\n",
        "    main()\n"
      ],
      "metadata": {
        "colab": {
          "base_uri": "https://localhost:8080/"
        },
        "id": "XkRZu8GRUYCH",
        "outputId": "f85f4c4b-73d8-4e6d-94e7-22ef799ed206"
      },
      "execution_count": 10,
      "outputs": [
        {
          "output_type": "stream",
          "name": "stdout",
          "text": [
            "Howdy Sophia ! 🤠\n"
          ]
        }
      ]
    },
    {
      "cell_type": "markdown",
      "source": [
        "10 even 11 odd 12 even 13 odd 14 even 15 odd 16 even 17 odd 18 even 19 odd"
      ],
      "metadata": {
        "id": "akdUhXYDUkjn"
      }
    },
    {
      "cell_type": "code",
      "source": [
        "def print_even_odd():\n",
        "    for num in range(10, 20):\n",
        "        if num % 2 == 0:\n",
        "            print(f\"{num} even\", end=\" \")\n",
        "        else:\n",
        "            print(f\"{num} odd\", end=\" \")\n",
        "if __name__=='__main__' :\n",
        " print_even_odd()"
      ],
      "metadata": {
        "colab": {
          "base_uri": "https://localhost:8080/"
        },
        "id": "BvGjpAG7UlxO",
        "outputId": "e6844855-5de9-4c7c-f292-00c0a41ae48d"
      },
      "execution_count": 13,
      "outputs": [
        {
          "output_type": "stream",
          "name": "stdout",
          "text": [
            "10 even 11 odd 12 even 13 odd 14 even 15 odd 16 even 17 odd 18 even 19 odd "
          ]
        }
      ]
    },
    {
      "cell_type": "markdown",
      "source": [
        "Write the helper function print_divisors(num), which takes in a number and prints all of its divisors (all the numbers from 1 to num inclusive that num can be cleanly divided by (there is no remainder to the division). Don't forget to call your function in main()!\n",
        "\n",
        "Here's a sample run (user input is in blue):\n",
        "\n",
        "Enter a number: 12 Here are the divisors of 12 1 2 3 4 6 12"
      ],
      "metadata": {
        "id": "uVHO2LCqVblh"
      }
    },
    {
      "cell_type": "code",
      "source": [
        "def print_divisors(num):\n",
        "    print(f\"Here are the divisors of {num}:\")\n",
        "    for i in range(1, num + 1):  # Loop through numbers from 1 to num inclusive\n",
        "        if num % i == 0:  # Check if i is a divisor of num\n",
        "            print(i, end=\" \")  # Print the divisor on the same line\n",
        "\n",
        "def main():\n",
        "    num = int(input(\"Enter a number: \"))  # Ask the user for a number\n",
        "    print_divisors(num)  # Call the helper function\n",
        "\n",
        "# Execute the main function\n",
        "if __name__ == \"__main__\":\n",
        "    main()"
      ],
      "metadata": {
        "colab": {
          "base_uri": "https://localhost:8080/"
        },
        "id": "Z9HehsOGVcs4",
        "outputId": "bcdc9fde-019c-464f-9b66-aae1df10bc59"
      },
      "execution_count": 14,
      "outputs": [
        {
          "output_type": "stream",
          "name": "stdout",
          "text": [
            "Enter a number: 43\n",
            "Here are the divisors of 43:\n",
            "1 43 "
          ]
        }
      ]
    },
    {
      "cell_type": "markdown",
      "source": [
        "Fill out print_multiple(message, repeats), which takes as parameters a string message to print, and an integer repeats number of times to print message. We've written the main() function for you, which prompts the user for a message and a number of repeats.\n",
        "\n",
        "Here's a sample run of the program (user input is in blue):\n",
        "\n",
        "Please type a message: Hello! Enter a number of times to repeat your message: 6 Hello! Hello! Hello! Hello! Hello! Hello!\n"
      ],
      "metadata": {
        "id": "jb3Y82DrVqVn"
      }
    },
    {
      "cell_type": "code",
      "source": [
        "def print_multiple(message, repeats):\n",
        "    for _ in range(repeats):  # Loop repeats times\n",
        "        print(message, end=\" \")  # Print the message on the same line\n",
        "\n",
        "# Main function\n",
        "def main():\n",
        "    message = input(\"Please type a message: \")  # Prompt for the message\n",
        "    repeats = int(input(\"Enter a number of times to repeat your message: \"))  # Prompt for the number of repeats\n",
        "    print_multiple(message, repeats)  # Call the print_multiple function\n",
        "\n",
        "# Execute the main function\n",
        "if __name__ == \"__main__\":\n",
        "    main()"
      ],
      "metadata": {
        "colab": {
          "base_uri": "https://localhost:8080/"
        },
        "id": "tkhhuJS4VsOB",
        "outputId": "99038531-b037-4d3d-f8c9-c38aec12cdb6"
      },
      "execution_count": 15,
      "outputs": [
        {
          "output_type": "stream",
          "name": "stdout",
          "text": [
            "Please type a message: m here \n",
            "Enter a number of times to repeat your message: 3\n",
            "m here  m here  m here  "
          ]
        }
      ]
    },
    {
      "cell_type": "markdown",
      "source": [
        "Implement the helper function make_sentence(word, part_of_speech) which will take a string word and an integer part_of_speech as parameters and, depending on the part of speech, place the word into one of three sentence templates (or one from your imagination!):\n",
        "\n",
        "If part_of_speech is 0, we will assume the word is a noun and use the template: \"I am excited to add this ____ to my vast collection of them!\"\n",
        "\n",
        "If part_of_speech is 1, we will assume the word is a verb use the template: \"It's so nice outside today it makes me want to ____!\"\n",
        "\n",
        "If part_of_speech is 2, we will assume the word is an adjective and use the template: \"Looking out my window, the sky is big and ____!\" make_sentence(word, part_of_speech) should not return anything, just print the correct sentence with the word filled in the blank.\n",
        "\n",
        "Here's a sample run of the program (user input is in blue):\n",
        "\n",
        "Please type a noun, verb, or adjective: groovy Is this a noun, verb, or adjective? Type 0 for noun, 1 for verb, 2 for adjective: 2 Looking out my window, the sky is big and groovy!\n",
        "\n"
      ],
      "metadata": {
        "id": "cEJdyQ4WWDR_"
      }
    },
    {
      "cell_type": "code",
      "source": [
        "# Helper function\n",
        "def make_sentence(word, part_of_speech):\n",
        "    if part_of_speech == 0:  # Case for nouns\n",
        "        print(f\"I am excited to add this {word} to my vast collection of them!\")\n",
        "    elif part_of_speech == 1:  # Case for verbs\n",
        "        print(f\"It's so nice outside today it makes me want to {word}!\")\n",
        "    elif part_of_speech == 2:  # Case for adjectives\n",
        "        print(f\"Looking out my window, the sky is big and {word}!\")\n",
        "    else:\n",
        "        print(\"Invalid part of speech! Please enter 0 for noun, 1 for verb, or 2 for adjective.\")\n",
        "\n",
        "# Main function\n",
        "def main():\n",
        "    word = input(\"Please type a noun, verb, or adjective: \")  # Prompt user for a word\n",
        "    part_of_speech = int(input(\"Is this a noun, verb, or adjective? Type 0 for noun, 1 for verb, 2 for adjective: \"))  # Prompt user for part of speech\n",
        "    make_sentence(word, part_of_speech)  # Call the helper function\n",
        "\n",
        "# Execute the main function\n",
        "if __name__ == \"__main__\":\n",
        "    main()"
      ],
      "metadata": {
        "colab": {
          "base_uri": "https://localhost:8080/"
        },
        "id": "cRBemd-QWFZQ",
        "outputId": "54eb3419-f06c-4306-d6b6-3f8434f6d000"
      },
      "execution_count": 16,
      "outputs": [
        {
          "output_type": "stream",
          "name": "stdout",
          "text": [
            "Please type a noun, verb, or adjective: rani,running ,jump\n",
            "Is this a noun, verb, or adjective? Type 0 for noun, 1 for verb, 2 for adjective: 2\n",
            "Looking out my window, the sky is big and rani,running ,jump!\n"
          ]
        }
      ]
    },
    {
      "cell_type": "markdown",
      "source": [
        "Write a function called print_ones_digit , which takes as a parameter an integer num and prints its ones digit. The modulo (remainder) operator, %, should be helpful to you here. Call your function from main()!\n",
        "\n",
        "Here's a sample run (user input is in blue):\n",
        "\n",
        "Enter a number: 42 The ones digit is 2"
      ],
      "metadata": {
        "id": "xrXNUWUtWc0R"
      }
    },
    {
      "cell_type": "code",
      "source": [
        "# Function to print the ones digit of a number\n",
        "def print_ones_digit(num):\n",
        "    ones_digit = num % 10  # Use the modulo operator to find the ones digit\n",
        "    print(f\"The ones digit is {ones_digit}\")\n",
        "\n",
        "# Main function\n",
        "def main():\n",
        "    num = int(input(\"Enter a number: \"))  # Prompt the user for a number\n",
        "    print_ones_digit(num)  # Call the print_ones_digit function\n",
        "\n",
        "# Execute the main function\n",
        "if __name__ == \"__main__\":\n",
        "    main()"
      ],
      "metadata": {
        "colab": {
          "base_uri": "https://localhost:8080/"
        },
        "id": "T9dpoMa1WeAU",
        "outputId": "bc858b07-b718-457d-c866-eae8ab399335"
      },
      "execution_count": 17,
      "outputs": [
        {
          "output_type": "stream",
          "name": "stdout",
          "text": [
            "Enter a number: 34\n",
            "The ones digit is 4\n"
          ]
        }
      ]
    },
    {
      "cell_type": "code",
      "execution_count": null,
      "metadata": {
        "id": "c_aEtoiyRS4f"
      },
      "outputs": [],
      "source": []
    }
  ]
}