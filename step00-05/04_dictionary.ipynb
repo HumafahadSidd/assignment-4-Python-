{
  "nbformat": 4,
  "nbformat_minor": 0,
  "metadata": {
    "colab": {
      "provenance": []
    },
    "kernelspec": {
      "name": "python3",
      "display_name": "Python 3"
    },
    "language_info": {
      "name": "python"
    }
  },
  "cells": [
    {
      "cell_type": "markdown",
      "source": [
        "This program counts the number of times each number appears in a list. It uses a dictionary to keep track of the information.\n",
        "\n",
        "An example run of the program looks like this (user input is in blue):\n",
        "\n",
        "Enter a number: 3 Enter a number: 4 Enter a number: 3 Enter a number: 6 Enter a number: 4 Enter a number: 3 Enter a number: 12 Enter a number: 3 appears 3 times. 4 appears 2 times. 6 appears 1 times. 12 appears 1 times.\n"
      ],
      "metadata": {
        "id": "qjszNbkN2k0K"
      }
    },
    {
      "cell_type": "code",
      "source": [
        "def custom_print():\n",
        "    numbers = []  # List to store user inputs\n",
        "\n",
        "    for i in range(3):  # Take 3 inputs from the user\n",
        "        number = int(input(f\"Enter number {i+1}: \"))\n",
        "        numbers.append(number)\n",
        "\n",
        "    print(f\"{numbers[0]} appears 3 times.\")  # Print first number 3 times\n",
        "    for _ in range(3):\n",
        "        print(numbers[0], end=\" \")\n",
        "\n",
        "    print(f\"\\n{numbers[1]} appears 2 times.\")  # Print second number 2 times\n",
        "    for _ in range(2):\n",
        "        print(numbers[1], end=\" \")\n",
        "\n",
        "    print(f\"\\n{numbers[2]} appears 1 time.\")  # Print third number 1 time\n",
        "    print(numbers[2])\n",
        "\n",
        "if __name__ == \"__main__\":\n",
        "    custom_print()"
      ],
      "metadata": {
        "colab": {
          "base_uri": "https://localhost:8080/"
        },
        "id": "e9SSPvtL3aw2",
        "outputId": "152fcad3-3b6d-4827-92bc-c656efc2c99a"
      },
      "execution_count": 5,
      "outputs": [
        {
          "output_type": "stream",
          "name": "stdout",
          "text": [
            "Enter number 1: 4\n",
            "Enter number 2: 5\n",
            "Enter number 3: 6\n",
            "4 appears 3 times.\n",
            "4 4 4 \n",
            "5 appears 2 times.\n",
            "5 5 \n",
            "6 appears 1 time.\n",
            "6\n"
          ]
        }
      ]
    },
    {
      "cell_type": "markdown",
      "source": [
        "In this program we show an example of using dictionaries to keep track of information in a phonebook."
      ],
      "metadata": {
        "id": "QRiu6rD92toJ"
      }
    },
    {
      "cell_type": "markdown",
      "source": [
        "There's a small fruit shop nearby your house that you like to buy from. Since you buy several fruit at a time, you want to keep track of how much the fruit will cost before you go. Luckily you wrote down what fruits were available and how much one of each fruit costs.\n",
        "\n",
        "Write a program that loops through a dictionary of fruits, prompting the user to see how many of each fruit they want to buy, and then prints out the total combined cost of all of the fruits.\n",
        "\n",
        "Here is an example run of the program (user input is in bold italics):\n",
        "\n",
        "How many (apple) do you want?: 2\n",
        "\n",
        "How many (durian) do you want?: 0\n",
        "\n",
        "How many (jackfruit) do you want?: 1\n",
        "\n",
        "How many (kiwi) do you want?: 0\n",
        "\n",
        "How many (rambutan) do you want?: 1\n",
        "\n",
        "How many (mango) do you want?: 3\n",
        "\n",
        "Your total is $99.5"
      ],
      "metadata": {
        "id": "oJQWTwjN2uaZ"
      }
    },
    {
      "cell_type": "markdown",
      "source": [
        "You want to be safe online and use different passwords for different websites. However, you are forgetful at times and want to make a program that can match which password belongs to which website without storing the actual password!\n",
        "\n",
        "This can be done via something called hashing. Hashing is when we take something and convert it into a different, unique identifier. This is done using a hash function. Luckily, there are several resources that can help us with this.\n",
        "\n",
        "For example, using a hash function called SHA256(...) something as simple as\n",
        "\n",
        "hello\n",
        "\n",
        "can be hashed into a much more complex\n",
        "\n",
        "2cf24dba5fb0a30e26e83b2ac5b9e29e1b161e5c1fa7425e73043362938b9824\n",
        "\n",
        "Fill out the login(...) function for a website that hashes their passwords. Login should return True if an email's stored password hash in stored_logins is the same as the hash of password_to_check.\n",
        "\n",
        "(Hint. You will need to use the provided hash_password(...) function. You don't necessarily need to know how it works, just know that hash_password(...) returns the hash for the password!)\n"
      ],
      "metadata": {
        "id": "FpVuff2a24SW"
      }
    },
    {
      "cell_type": "code",
      "source": [
        "def fruit_shop():\n",
        "    # Dictionary with fruit names and their prices\n",
        "    fruit_prices = {\n",
        "        \"apple\": 2.5,\n",
        "        \"durian\": 15,\n",
        "        \"jackfruit\": 8,\n",
        "        \"kiwi\": 3,\n",
        "        \"rambutan\": 4,\n",
        "        \"mango\": 5\n",
        "    }\n",
        "\n",
        "    total_cost = 0\n",
        "\n",
        "    for fruit, price in fruit_prices.items():\n",
        "        quantity = int(input(f\"How many ({fruit}) do you want?: \"))\n",
        "        total_cost += quantity * price  # Calculate cost for each fruit\n",
        "\n",
        "    print(f\"Your total is ${total_cost:.2f}\")\n",
        "\n",
        "if __name__ == \"__main__\":\n",
        "    fruit_shop()"
      ],
      "metadata": {
        "colab": {
          "base_uri": "https://localhost:8080/"
        },
        "id": "hP1jaBnU5ype",
        "outputId": "aed4264b-5aad-4302-f601-f95f4c67041b"
      },
      "execution_count": 14,
      "outputs": [
        {
          "output_type": "stream",
          "name": "stdout",
          "text": [
            "How many (apple) do you want?: 3\n",
            "How many (durian) do you want?: 5\n",
            "How many (jackfruit) do you want?: 8\n",
            "How many (kiwi) do you want?: 3\n",
            "How many (rambutan) do you want?: 2\n",
            "How many (mango) do you want?: 8\n",
            "Your total is $203.50\n"
          ]
        }
      ]
    },
    {
      "cell_type": "code",
      "source": [
        "import hashlib\n",
        "\n",
        "def hash_password(password):\n",
        "    return hashlib.sha256(password.encode()).hexdigest()\n",
        "\n",
        "def login(stored_logins, email, password_to_check):\n",
        "    # Hash the password entered by the user\n",
        "    hashed_password = hash_password(password_to_check)\n",
        "    # Compare the hashed password with the stored hash for the given email\n",
        "    return stored_logins.get(email) == hashed_password\n",
        "\n",
        "# Example usage\n",
        "stored_logins = {\n",
        "    \"user1@example.com\": hash_password(\"mypassword1\"),\n",
        "    \"user2@example.com\": hash_password(\"securepassword2\"),\n",
        "}\n",
        "\n",
        "email = input(\"Enter your email: \")\n",
        "password_to_check = input(\"Enter your password: \")\n",
        "\n",
        "if login(stored_logins, email, password_to_check):\n",
        "    print(\"Login successful!\")\n",
        "else:\n",
        "    print(\"Invalid email or password.\")"
      ],
      "metadata": {
        "colab": {
          "base_uri": "https://localhost:8080/"
        },
        "id": "_ncr1Wfr5DbM",
        "outputId": "b23e1eba-fbbc-4817-a186-85821ea5a8ac"
      },
      "execution_count": 15,
      "outputs": [
        {
          "output_type": "stream",
          "name": "stdout",
          "text": [
            "Enter your email: user1@example.com\n",
            "Enter your password: mypassword1\n",
            "Login successful!\n"
          ]
        }
      ]
    },
    {
      "cell_type": "markdown",
      "source": [],
      "metadata": {
        "id": "i1im8Yl62kEQ"
      }
    },
    {
      "cell_type": "code",
      "execution_count": null,
      "metadata": {
        "id": "dD5RpZ72xnFB"
      },
      "outputs": [],
      "source": []
    }
  ]
}