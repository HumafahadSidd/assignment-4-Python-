{
  "nbformat": 4,
  "nbformat_minor": 0,
  "metadata": {
    "colab": {
      "provenance": []
    },
    "kernelspec": {
      "name": "python3",
      "display_name": "Python 3"
    },
    "language_info": {
      "name": "python"
    }
  },
  "cells": [
    {
      "cell_type": "markdown",
      "source": [
        "There are times where we want to return different things from a function based on some condition. To practice this idea, imagine that we want to check if someone is an adult. We might check their age and return different things depending on how old they are!\n",
        "\n",
        "We've provided you with the ADULT_AGE variable which has the age a person is legally classified as an adult (in the United States). Fill out the is_adult(age) function, which returns True if the function takes an age that is greater than or equal to ADULT_AGE. If the function takes an age less than ADULT_AGE, return False instead.\n",
        "\n",
        "Here are two sample runs of the program, one for each return option (user input in bold italics):\n",
        "\n",
        "(Entered age is an adult age)\n",
        "\n",
        "How old is this person?: 35\n",
        "\n",
        "True\n",
        "\n",
        "(Entered age is not an adult age)\n",
        "\n",
        "How old is this person?: 7\n",
        "\n",
        "False"
      ],
      "metadata": {
        "id": "WKW4c7mzaNdD"
      }
    },
    {
      "cell_type": "code",
      "execution_count": 3,
      "metadata": {
        "colab": {
          "base_uri": "https://localhost:8080/"
        },
        "id": "mImZKHvTaJ3M",
        "outputId": "6d2e3991-82f7-4bbd-ce1c-0ef9bd2bd938"
      },
      "outputs": [
        {
          "output_type": "stream",
          "name": "stdout",
          "text": [
            "How old is this person?: 12\n",
            "False\n"
          ]
        }
      ],
      "source": [
        "# Define the ADULT_AGE variable\n",
        "ADULT_AGE = 18  # This value can be adjusted based on the legal classification.\n",
        "\n",
        "# Define the function\n",
        "def is_adult(age):\n",
        "    if age >= ADULT_AGE:\n",
        "        return True\n",
        "    else:\n",
        "        return False\n",
        "\n",
        "\n",
        "age = int(input(\"How old is this person?: \"))\n",
        "print(is_adult(age))\n",
        "\n"
      ]
    },
    {
      "cell_type": "markdown",
      "source": [
        "We've written a helper function for you called greet(name) which takes as input a string name and prints a greeting. Write some code in main() to get the user's name and then greet them, being sure to call the greet(name) helper function.\n",
        "\n",
        "Here's a sample run of the program (user input in bold italics):\n",
        "\n",
        "What's your name? Sophia\n",
        "\n",
        "Greetings Sophia!\n",
        "\n",
        "Starter Code"
      ],
      "metadata": {
        "id": "pS0xxuLrbZYW"
      }
    },
    {
      "cell_type": "code",
      "source": [
        "def greet(name):\n",
        "    print(\"hello Dear \" + name + \"!\")\n",
        "    print(\"How are you doing today?\")\n",
        "\n",
        "\n",
        "def main():\n",
        "    name = input(\"What's your name? \")\n",
        "    greet(name)\n",
        "\n",
        "if __name__ == \"__main__\":\n",
        "    main()\n"
      ],
      "metadata": {
        "colab": {
          "base_uri": "https://localhost:8080/"
        },
        "id": "BzSmj_DLbdiF",
        "outputId": "75ad8581-196a-4c81-c844-2dd1ed521c7f"
      },
      "execution_count": 4,
      "outputs": [
        {
          "output_type": "stream",
          "name": "stdout",
          "text": [
            "What's your name? huma\n",
            "hello Dear huma!\n",
            "How are you doing today?\n"
          ]
        }
      ]
    },
    {
      "cell_type": "markdown",
      "source": [
        "Implement the following function which takes in 3 integers as parameters:\n",
        "\n",
        "def in_range(n, low, high) \"\"\" Returns True if n is between low and high, inclusive. high is guaranteed to be greater than low. \"\"\"\n",
        "\n",
        "Star"
      ],
      "metadata": {
        "id": "IrrFw4nCb7BJ"
      }
    },
    {
      "cell_type": "code",
      "source": [
        "def in_range(n, low, high):\n",
        "    if low <= n <= high:\n",
        "        return True\n",
        "    else:\n",
        "        return False\n",
        "if __name__ == \"__main__\":\n",
        "    print(in_range(10, 10, 10))\n",
        "    print(in_range(5, 10, 20))\n",
        "    print(in_range(15, 20, 30))\n",
        "    print(in_range(25, 25, 30))\n",
        "    print(in_range(35, 30, 35))\n",
        ""
      ],
      "metadata": {
        "colab": {
          "base_uri": "https://localhost:8080/"
        },
        "id": "IfbYwH8PcDFY",
        "outputId": "7aaf4e99-a14d-421e-f15b-c40ce0e27d40"
      },
      "execution_count": 5,
      "outputs": [
        {
          "output_type": "stream",
          "name": "stdout",
          "text": [
            "True\n",
            "False\n",
            "False\n",
            "True\n",
            "True\n"
          ]
        }
      ]
    },
    {
      "cell_type": "markdown",
      "source": [
        "Sophia has a fruit store. She has written a function num_in_stock which takes a string fruit as a parameter and returns how many of that fruit are in her inventory. Write code in main() which will:\n",
        "\n",
        "Prompt the user to enter a fruit (\"Enter a fruit: \")\n",
        "\n",
        "Call num_in_stock(fruit) to get the number of that fruit that Sophia has in stock\n",
        "\n",
        "Print the number which are in stock if Sophia has that fruit in her inventory (there are more than 0 in stock)\n",
        "\n",
        "Print \"This fruit is not in stock.\" if Sophia has none of that fruit in her inventory.\n",
        "\n",
        "Here's two sample runs of the program (user input in bold italics):\n",
        "\n",
        "Enter a fruit: pear\n",
        "\n",
        "This fruit is in stock! Here is how many:\n",
        "\n",
        "1000\n",
        "\n",
        "Enter a fruit: lychee\n",
        "\n",
        "This fruit is not in stock."
      ],
      "metadata": {
        "id": "TXt1fOX_cdeE"
      }
    },
    {
      "cell_type": "code",
      "source": [
        "# Example function num_in_stock (you can assume it has access to inventory data)\n",
        "def num_in_stock(fruit):\n",
        "    # Mock inventory for demonstration\n",
        "    inventory = {\n",
        "        \"apple\": 50,\n",
        "        \"banana\": 100,\n",
        "        \"pear\": 1000,\n",
        "        \"orange\": 0  # Example of a fruit not in stock\n",
        "    }\n",
        "    return inventory.get(fruit, 0)  # Return 0 if the fruit is not in inventory\n",
        "\n",
        "# The main function\n",
        "def main():\n",
        "    fruit = input(\"Enter a fruit: \")  # Prompt the user to enter a fruit\n",
        "    stock = num_in_stock(fruit)  # Call num_in_stock to get the number in stock\n",
        "\n",
        "    if stock > 0:\n",
        "        print(f\"This fruit is in stock! Here is how many:\\n{stock}\")\n",
        "    else:\n",
        "        print(\"This fruit is not in stock.\")\n",
        "\n",
        "# Example run\n",
        "main()"
      ],
      "metadata": {
        "colab": {
          "base_uri": "https://localhost:8080/"
        },
        "id": "uvYeh70McfCa",
        "outputId": "a8d1ca23-ddf8-4679-ae9f-b27726d5f5e3"
      },
      "execution_count": 6,
      "outputs": [
        {
          "output_type": "stream",
          "name": "stdout",
          "text": [
            "Enter a fruit: apple\n",
            "This fruit is in stock! Here is how many:\n",
            "50\n"
          ]
        }
      ]
    },
    {
      "cell_type": "markdown",
      "source": [
        "There are times where you are working with lots of different data within a function that you want to return. While generally, we want to keep functions to have a precise purpose, sometimes that purpose just deals with multiple bits of data.\n",
        "\n",
        "To practice this, imagine we are working on a program where the user needs to enters data to sign up for a website. Fill out the get_user_data() function which:\n",
        "\n",
        "Asks the user for their first name and stores it in a variable\n",
        "\n",
        "Asks the user for their last name and stores it in a variable\n",
        "\n",
        "Asks the user for their email address and stores it in a variable\n",
        "\n",
        "Returns all three of these pieces of data in the order it was asked\n",
        "\n",
        "You can return multiple pieces of data by separating each piece with a comma in the return line.\n",
        "\n",
        "Here is an example run of the program:\n",
        "\n",
        "What is your first name?: Jane\n",
        "\n",
        "What is your last name?: Stanford\n",
        "\n",
        "What is your email address?: janestanford@stanford.edu\n",
        "\n",
        "Received the following user data: ('Jane', 'Stanford', 'janestanford@stanford.edu')\n",
        "\n",
        "(Note. This idea is called tuple packing/unpacking. We \"pack\" our return values into a single data structure called a tuple. We can then \"unpack\" these values back into our original values or leave them as a tuple.)"
      ],
      "metadata": {
        "id": "VDOaaSZvcq_8"
      }
    },
    {
      "cell_type": "code",
      "source": [
        "def get_user_data():\n",
        "    \"\"\"\n",
        "    Asks the user for their first name, last name, and email address,\n",
        "    then returns all three as a tuple.\n",
        "    \"\"\"\n",
        "    first_name = input(\"What is your first name?: \")\n",
        "    last_name = input(\"What is your last name?: \")\n",
        "    email = input(\"What is your email address?: \")\n",
        "\n",
        "    # Return the collected data as a tuple\n",
        "    return first_name, last_name, email\n",
        "\n",
        "# Example usage:\n",
        "user_data = get_user_data()\n",
        "print(\"Received the following user data:\", user_data)\n",
        "\n",
        "if __name__ == \"__main__\":\n",
        "    main()"
      ],
      "metadata": {
        "colab": {
          "base_uri": "https://localhost:8080/"
        },
        "id": "89IlncH_cv7f",
        "outputId": "1febde4b-3bf9-4cfa-8cc5-87c6995a3a69"
      },
      "execution_count": 7,
      "outputs": [
        {
          "output_type": "stream",
          "name": "stdout",
          "text": [
            "What is your first name?: huma\n",
            "What is your last name?: siddiqui\n",
            "What is your email address?: humasidd@gmail.com\n",
            "Received the following user data: ('huma', 'siddiqui', 'humasidd@gmail.com')\n"
          ]
        }
      ]
    },
    {
      "cell_type": "markdown",
      "source": [
        "Fill out the subtract_seven helper function to subtract 7 from num, and fill out the main() method to call the subtract_seven helper function! If you're stuck, revisit the add_five example from lecture."
      ],
      "metadata": {
        "id": "N4khu3zwc_-V"
      }
    },
    {
      "cell_type": "code",
      "source": [
        "# Define the subtract_seven helper function\n",
        "def subtract_seven(num):\n",
        "    \"\"\"\n",
        "    Subtracts 7 from the input number and returns the result.\n",
        "    \"\"\"\n",
        "    return num - 7\n",
        "\n",
        "# Define the main function\n",
        "def main():\n",
        "    \"\"\"\n",
        "    Calls the subtract_seven helper function and prints the result.\n",
        "    \"\"\"\n",
        "    number = int(input(\"Enter a number: \"))  # Prompt the user to enter a number\n",
        "    result = subtract_seven(number)  # Call the helper function\n",
        "    print(f\"The result after subtracting 7 is: {result}\")\n",
        "\n",
        "# Example run\n",
        "main()"
      ],
      "metadata": {
        "colab": {
          "base_uri": "https://localhost:8080/"
        },
        "id": "f1lfn4OXdB8n",
        "outputId": "bb1ea131-4aa6-43c8-db0e-0d89f622f411"
      },
      "execution_count": 9,
      "outputs": [
        {
          "output_type": "stream",
          "name": "stdout",
          "text": [
            "Enter a number: 3\n",
            "The result after subtracting 7 is: -4\n"
          ]
        }
      ]
    }
  ]
}