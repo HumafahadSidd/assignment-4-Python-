{
  "nbformat": 4,
  "nbformat_minor": 0,
  "metadata": {
    "colab": {
      "provenance": []
    },
    "kernelspec": {
      "name": "python3",
      "display_name": "Python 3"
    },
    "language_info": {
      "name": "python"
    }
  },
  "cells": [
    {
      "cell_type": "markdown",
      "source": [
        "Write a program that prints the first 20 even numbers. There are several correct approaches, but they all use a loop of some sort. Do no write twenty print statements\n",
        "\n",
        "The first even number is 0:\n",
        "\n",
        "0 2 4 6 8 10 12 14 16 18 20 22 24 26 28 30 32 34 36 38"
      ],
      "metadata": {
        "id": "Ot0q2vTHWVNW"
      }
    },
    {
      "cell_type": "code",
      "source": [
        "def first_twenty_numbers():\n",
        "  for i in range(0,40,2):\n",
        "    print(i, end=\" \")\n",
        "first_twenty_numbers()\n",
        "\n",
        "if __name__ == \"__main__\":\n",
        "  first_twenty_numbers()"
      ],
      "metadata": {
        "colab": {
          "base_uri": "https://localhost:8080/"
        },
        "id": "Ulw6amcFWko9",
        "outputId": "27a9f587-eec8-4f83-b599-871f47e297e7"
      },
      "execution_count": 1,
      "outputs": [
        {
          "output_type": "stream",
          "name": "stdout",
          "text": [
            "0 2 4 6 8 10 12 14 16 18 20 22 24 26 28 30 32 34 36 38 0 2 4 6 8 10 12 14 16 18 20 22 24 26 28 30 32 34 36 38 "
          ]
        }
      ]
    },
    {
      "cell_type": "markdown",
      "source": [],
      "metadata": {
        "id": "dpWrfpWrWDoE"
      }
    },
    {
      "cell_type": "markdown",
      "source": [
        "Write a program which asks a user for their age and lets them know if they can or can't vote in the following three fictional countries.\n",
        "\n",
        "Around the world, different countries have different voting ages. In the fictional countries of Peturksbouipo, Stanlau, and Mayengua, the voting ages are very different:\n",
        "\n",
        "the voting age in Peturksbouipo is 16 (in real life, this is the voting age in, for example, Scotland, Ethiopia, and Austria)\n",
        "\n",
        "the voting age in Stanlau is 25 (in real life this is the voting age in the United Arab Emirates)\n",
        "\n",
        "the voting age in Mayengua is 48 (in real life, as far as we can tell, this isn't the voting age anywhere)\n",
        "\n",
        "Your code should prompt the for their age and print whether or not they can vote in Peturksbouipo, Stanlau, or Mayengua.\n",
        "\n",
        "Here's a sample run of the program (user input is in blue):\n",
        "\n",
        "How old are you? 20 You can vote in Peturksbouipo where the voting age is 16. You cannot vote in Stanlau where the voting age is 25. You cannot vote in Mayengua where the voting age is 48."
      ],
      "metadata": {
        "id": "YnaHYbADXptK"
      }
    },
    {
      "cell_type": "code",
      "source": [
        "fictional_countries = {\n",
        "    \"Peturksbouipo\": 16,\n",
        "    \"Stanlau\": 25,\n",
        "    \"Mayengua\": 48\n",
        "}\n",
        "\n",
        "def voting_age():\n",
        "    try:\n",
        "        age = int(input(\"Enter your age: \"))\n",
        "        for country, required_age in fictional_countries.items():\n",
        "            if age >= required_age:\n",
        "                print(f\"You can vote in {country}, where the voting age is {required_age}.\")\n",
        "    except ValueError:\n",
        "        print(\"Invalid input. Please enter a valid number.\")\n",
        "\n",
        "if __name__ == \"__main__\":\n",
        "    voting_age()"
      ],
      "metadata": {
        "colab": {
          "base_uri": "https://localhost:8080/"
        },
        "id": "k0XXk88QXrsS",
        "outputId": "ca34d6b0-bdb9-4a5f-9d91-4ab274067864"
      },
      "execution_count": 2,
      "outputs": [
        {
          "output_type": "stream",
          "name": "stdout",
          "text": [
            "Enter your age: 63\n",
            "You can vote in Peturksbouipo, where the voting age is 16.\n",
            "You can vote in Stanlau, where the voting age is 25.\n",
            "You can vote in Mayengua, where the voting age is 48.\n"
          ]
        }
      ]
    },
    {
      "cell_type": "markdown",
      "source": [
        "Write a program that reads a year from the user and tells whether a given year is a leap year or not.\n",
        "\n",
        "A leap year (also known as an intercalary year or bissextile year) is a calendar year that contains an additional day (or, in the case of a lunisolar calendar, a month) added to keep the calendar year synchronized with the astronomical year or seasonal year. In the Gregorian calendar, each leap year has 366 days instead of 365, by extending February to 29 days rather than the common 28.\n",
        "\n",
        "In the Gregorian calendar, three criteria must be checked to identify leap years:\n",
        "\n",
        "The given year must be evenly divisible by 4;\n",
        "If the year can also be evenly divided by 100, it is NOT a leap year; unless:\n",
        "The year is also evenly divisible by 400. Then it is a leap year.\n",
        "Your code should use the above criteria to check for a leap year and then print either \"That's a leap year!\" or \"That's not a leap year.\""
      ],
      "metadata": {
        "id": "ol7nDgvBw4p1"
      }
    },
    {
      "cell_type": "code",
      "source": [
        "#  LeapYear:int=366  as i\n",
        "#  NonLeapYear:int=365\n",
        "\n",
        "def leap_year():\n",
        "   \"\"\"\n",
        "   leap year is an even number so it must be divisible by 4 and not divisible by 100 or 400\n",
        "   \"\"\"\n",
        "try:\n",
        "        year = int(input(\"Enter a year: \"))\n",
        "        if (year % 4==0 and year % 100 != 0) or (year % 400 == 0):\n",
        "            print(f\"{year} is a leap year!\")\n",
        "        else:\n",
        "            print(f\"{year} is not a leap year.\")\n",
        "\n",
        "except ValueError:\n",
        "        print(\"Invalid input. Please enter a valid number.\")\n",
        "\n",
        "if __name__ == \"__main__\":\n",
        "    leap_year()\n",
        "\n"
      ],
      "metadata": {
        "colab": {
          "base_uri": "https://localhost:8080/"
        },
        "id": "Drg6DtWWyS1e",
        "outputId": "5f77894a-3911-429f-94ab-4cdf031a7fb1"
      },
      "execution_count": 3,
      "outputs": [
        {
          "output_type": "stream",
          "name": "stdout",
          "text": [
            "Enter a year: 1965\n",
            "1965 is not a leap year.\n"
          ]
        }
      ]
    },
    {
      "cell_type": "markdown",
      "source": [
        "Write a program which asks the user how tall they are and prints whether or not they're taller than a pre-specified minimum height.\n",
        "\n",
        "In amusement parks (ah, the good old pre-pandemic days...), rollercoasters frequently have minimum height requirements for safety reasons. Assume for now that the minimum height is 50 of whatever height unit you'd like\n",
        "\n",
        "Here's two sample runs (user input is in bold italics):\n",
        "\n",
        "How tall are you? 100\n",
        "\n",
        "You're tall enough to ride!\n",
        "\n",
        "How tall are you? 10\n",
        "\n",
        "You're not tall enough to ride, but maybe next year!\n",
        "\n",
        "(For an extra challenge, write code which will repeatedly ask a user how tall they are and tell them whether or not they're tall enough to ride, until the user doesn't enter a height at all, in which case the program stops. Curious about how to do this? See the function tall_enough_extension() in the solution code!)"
      ],
      "metadata": {
        "id": "xd4iBOprw-bj"
      }
    },
    {
      "cell_type": "code",
      "source": [
        "def min_height():\n",
        "    try:\n",
        "        min_height = 50\n",
        "        user_height = float(input(\"How tall are you? \"))\n",
        "        if user_height > min_height:\n",
        "            print(\"You're tall enough to ride!\")\n",
        "        else:\n",
        "            print(\"You're not tall enough to ride, but maybe next year!\")\n",
        "    except ValueError:\n",
        "        print(\"Invalid input. Please enter a valid number.\")\n",
        "\n",
        "if __name__ == \"__main__\":\n",
        "    min_height()\n",
        "\n",
        "# #second approach\n",
        "# def tall_enough_extension():\n",
        "#     min_height = 50\n",
        "#     while True:\n",
        "#         try:\n",
        "#             user_height = float(input(\"How tall are you? \"))\n",
        "#             if user_height > min_height:\n",
        "#                 print(\"You're tall enough to ride!\")\n",
        "\n",
        "#             elif user_height == 0:\n",
        "#                 break\n",
        "#             else:\n",
        "#                 print(\"You're not tall enough to ride, but maybe next year!\")\n",
        "#         except ValueError:\n",
        "#             print(\"Invalid input. Please enter a valid number.\")\n",
        "\n",
        "\n",
        "# if __name__ == \"__main__\":\n",
        "#     tall_enough_extension()"
      ],
      "metadata": {
        "colab": {
          "base_uri": "https://localhost:8080/"
        },
        "id": "hYiVIEmV00WK",
        "outputId": "3377258f-5b79-4ff8-cbce-890d291a6e3d"
      },
      "execution_count": 5,
      "outputs": [
        {
          "output_type": "stream",
          "name": "stdout",
          "text": [
            "How tall are you? 3\n",
            "You're not tall enough to ride, but maybe next year!\n"
          ]
        }
      ]
    },
    {
      "cell_type": "markdown",
      "source": [
        "Print 10 random numbers in the range 1 to 100.\n",
        "\n",
        "Here is an example run:\n",
        "\n",
        "45 79 61 47 52 10 16 83 19 12\n",
        "\n",
        "Each time you run your program you should get different numbers\n",
        "\n",
        "81 76 70 1 27 63 96 100 32 92\n",
        "\n",
        "Recall that the python random library has a function randint which returns an integer in the range set by the parameters (inclusive). For example this call would produce a random integer between 1 and 6, which could include 1 and could include 6:\n",
        "\n",
        "value = random.randint(1, 6)\n",
        "\n"
      ],
      "metadata": {
        "id": "ChDZ47RPxYZ1"
      }
    },
    {
      "cell_type": "code",
      "source": [
        "import random\n",
        "\n",
        "def alternate_numbers_generator():\n",
        "    for i in range(10):\n",
        "        if i % 2 == 0:  # Agar index even ho to even number generate kare\n",
        "            random_number = random.randint(2, 100)  # Even number generate karna\n",
        "            if random_number % 2 != 0:  # Ensure number is even\n",
        "                random_number += 1\n",
        "        else:  # Agar index odd ho to odd number generate kare\n",
        "            random_number = random.randint(1, 99)  # Odd number generate karna\n",
        "            if random_number % 2 == 0:  # Ensure number is odd\n",
        "                random_number += 1\n",
        "        print(random_number, end=\" \")\n",
        "\n",
        "if __name__ == \"__main__\":\n",
        "    alternate_numbers_generator()"
      ],
      "metadata": {
        "id": "EzM62sY11qrT"
      },
      "execution_count": null,
      "outputs": []
    }
  ]
}