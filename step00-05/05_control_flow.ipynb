{
  "cells": [
    {
      "cell_type": "markdown",
      "metadata": {
        "id": "r7qKjuWwg7Hh"
      },
      "source": [
        "Guess My Number\n",
        "\n",
        "I am thinking of a number between 0 and 99... Enter a guess: 50 Your guess is too high\n",
        "\n",
        "Enter a new number: 25 Your guess is too low\n",
        "\n",
        "Enter a new number: 40 Your guess is too low\n",
        "\n",
        "Enter a new number: 45 Your guess is too low\n",
        "\n",
        "Enter a new number: 48 Congrats! The number was: 48"
      ]
    },
    {
      "cell_type": "code",
      "execution_count": null,
      "metadata": {
        "colab": {
          "base_uri": "https://localhost:8080/"
        },
        "id": "UdFZVKsvg9Bl",
        "outputId": "da9b36fc-bc71-43fe-af3c-679541cf02a3"
      },
      "outputs": [
        {
          "output_type": "stream",
          "name": "stdout",
          "text": [
            "I am thinking of a number between 0 and 99...\n",
            "Enter a guess: 3\n",
            "Your guess is too low\n",
            "Enter a guess: 4\n",
            "Your guess is too low\n",
            "Enter a guess: 4\n",
            "Your guess is too low\n"
          ]
        }
      ],
      "source": [
        "import random\n",
        "\n",
        "# Generate a random number between 0 and 99\n",
        "number = random.randint(0, 99)\n",
        "print(\"I am thinking of a number between 0 and 99...\")\n",
        "# Loop until the user guesses correctly\n",
        "while True:\n",
        "    guess =int(input(\"Enter a guess: \"))\n",
        "    if guess > number:\n",
        "       print(\"Your guess is too high\")\n",
        "    elif guess < number:\n",
        "       print(\"Your guess is too low\")\n",
        "    elif guess == number:\n",
        "       print(\"Congrats! The number was:\", number)\n",
        "    else:\n",
        "        print(f\"Congrats! The number was: {number}\")\n",
        "        break  # Exit the loop once the guess is correct\n",
        "\n"
      ]
    },
    {
      "cell_type": "markdown",
      "metadata": {
        "id": "gN0R3-PDiOig"
      },
      "source": [
        "Write a program to print terms in the Fibonacci sequence up to a maximum value.\n",
        "\n",
        "In the 13th century, the Italian mathematician Leonardo Fibonacci, as a way to explain the geometric growth of a population of rabbits, devised a mathematical sequence that now bears his name. The first two terms in this sequence, Fib(0) and Fib(1), are 0 and 1, and every subsequent term is the sum of the preceding two. Thus, the first several terms in the Fibonacci sequence look like this:\n",
        "\n",
        "Fib(0) = 0 Fib(1) = 1 Fib(2) = 1 = 0 + 1 Fib(3) = 2 = 1 + 1 Fib(4) = 3 = 1 + 2 Fib(5) = 5 = 2 + 3\n",
        "\n",
        "Write a program that displays the terms in the Fibonacci sequence, starting with Fib(0) and continuing as long as the terms are less than 10,000 (you should store this value as a constant!). Thus, your program should produce the following sample run:\n",
        "\n",
        "0 1 1 2 3 5 8 13 21 34 55 89 144 233 377 610 987 1597 2584 4181 6765"
      ]
    },
    {
      "cell_type": "code",
      "execution_count": null,
      "metadata": {
        "id": "sLYnAjugilmA"
      },
      "outputs": [],
      "source": [
        "FIBONACCI=10000\n",
        "def fib_number():\n",
        "    a=0\n",
        "    b=1\n",
        "    print(a,end=\" \")\n",
        "    print(b,end=\" \")\n",
        "    for i in range(FIBONACCI):\n",
        "        c=a+b\n",
        "        if c<=FIBONACCI:\n",
        "            print(c,end=\" \")\n",
        "            a=b\n",
        "            b=c\n",
        "        else:\n",
        "            break\n",
        "fib_number()\n",
        "\n",
        "if __name__ == \"__main__\":\n",
        "    fib_number()"
      ]
    },
    {
      "cell_type": "markdown",
      "metadata": {
        "id": "8NIfIHzcjaM5"
      },
      "source": [
        "Write a program that prints the first 20 even numbers. There are several correct approaches, but they all use a loop of some sort. Do no write twenty print statements\n",
        "\n",
        "The first even number is 0:\n",
        "\n",
        "0 2 4 6 8 10 12 14 16 18 20 22 24 26 28 30 32 34 36 38"
      ]
    },
    {
      "cell_type": "code",
      "execution_count": null,
      "metadata": {
        "id": "AXPf-IL3jbOy"
      },
      "outputs": [],
      "source": [
        "def even_number():\n",
        "    for i in range(20):\n",
        "        print(i*2,end=\" \")\n",
        "even_number()\n",
        "\n",
        "if __name__ == \"__main__\":\n",
        "    even_number()"
      ]
    },
    {
      "cell_type": "markdown",
      "metadata": {
        "id": "AU3TGXuWjn59"
      },
      "source": [
        "Write a program which prompts the user to type an affirmation of your choice (we'll use \"I am capable of doing anything I put my mind to.\") until they type it correctly. Sometimes, especially in the midst of such uncertain times, we just need to be reminded that we are resilient, capable, and strong; this little Python program may be able to help!\n",
        "\n",
        "Here's a sample run of the program (user input is in blue):\n",
        "\n",
        "Please type the following affirmation: I am capable of doing anything I put my mind to. Hmmm That was not the affirmation. Please type the following affirmation: I am capable of doing anything I put my mind to. I am capable of doing anything I put my mind to. That's right! :)\n",
        "\n",
        "Note that you can call input() with no prompt and it will still wait for a user to type something!"
      ]
    },
    {
      "cell_type": "markdown",
      "metadata": {
        "id": "nFk_Rpw-jkaC"
      },
      "source": []
    },
    {
      "cell_type": "code",
      "execution_count": null,
      "metadata": {
        "id": "Blo8PgFajpIz"
      },
      "outputs": [],
      "source": [
        "#Define the affirmation\n",
        "affirmation = \"I am capable of doing anything I put my mind to.\"\n",
        "\n",
        "# Prompt the user to type the affirmation\n",
        "while True:\n",
        "    print(f\"Please type the following affirmation: {affirmation}\")\n",
        "    user_input = input()  # Get user input\n",
        "    if user_input == affirmation:\n",
        "        print(\"That's right! :)\")  # Correct affirmation\n",
        "        break  # Exit the loop\n",
        "    else:\n",
        "        print(\"Hmmm That was not the affirmation.\")  # Incorrect input\n"
      ]
    },
    {
      "cell_type": "markdown",
      "metadata": {
        "id": "4-LRV9AEkx4O"
      },
      "source": [
        "Write a program that prints out the calls for a spaceship that is about to launch. Countdown from 10 to 1 and then output Liftoff!\n",
        "\n",
        "Here's a sample run of the program:\n",
        "\n",
        "10 9 8 7 6 5 4 3 2 1 Liftoff!\n",
        "\n",
        "There are many ways to solve this problem. One approach is to use a for loop, and to use the for loop variable i. Recall that i will keep track of how many times the for loop has completed executing its body. As an example this code:\n",
        "\n",
        "for i in range(10): print(i)\n",
        "\n",
        "Will print out the values 0, 1, 2, 3, 4, 5, 6, 7, 8, 9. The values printed in liftoff are 10 minus the number of times the for loop has completed."
      ]
    },
    {
      "cell_type": "code",
      "execution_count": null,
      "metadata": {
        "id": "70-eW6JTk3qm"
      },
      "outputs": [],
      "source": [
        "# Countdown from 10 to 1\n",
        "for i in range(10, 0, -1):  # Start at 10, stop at 1, decrement by -1\n",
        "    print(i, end=\" \")\n",
        "\n",
        "# Print \"Liftoff!\" at the end\n",
        "print(\"Liftoff!\")\n",
        "\n"
      ]
    },
    {
      "cell_type": "markdown",
      "metadata": {
        "id": "Q7y-ilZklOrQ"
      },
      "source": [
        "Write a program that asks a user to enter a number. Your program will then double that number and print out the result. It will repeat that process until the value is 100 or greater.\n",
        "\n",
        "For example if the user enters the number 2 you would then print:\n",
        "\n",
        "4 8 16 32 64 128\n",
        "\n",
        "Note that:\n",
        "\n",
        "2 doubled is 4\n",
        "\n",
        "4 doubled is 8\n",
        "\n",
        "8 doubled is 16\n",
        "\n",
        "and so on.\n",
        "\n",
        "We stop at 128 because that value is greater than 100.\n",
        "\n",
        "Maintain the current number in a variable named curr_value. When you double the number, you should be updating curr_value. Recall that you can double the value of curr_value using a line like:\n",
        "\n",
        "curr_value = curr_value * 2\n",
        "\n",
        "This program should have a while loop and the while loop condition should test if curr_value is less than 100. Thus, your program will have the line:\n",
        "\n",
        "while curr_value < 100:"
      ]
    },
    {
      "cell_type": "code",
      "execution_count": null,
      "metadata": {
        "id": "owSYouS0lQLU"
      },
      "outputs": [],
      "source": [
        "# Ask the user to enter a number\n",
        "curr_value = int(input(\"Enter a number: \"))\n",
        "\n",
        "# Double the number and print the result until the value is 100 or greater\n",
        "while curr_value < 100:\n",
        "    curr_value = curr_value * 2  # Double the value\n",
        "    print(curr_value, end=\" \")  # Print the doubled value\n",
        "\n"
      ]
    }
  ],
  "metadata": {
    "colab": {
      "provenance": [],
      "gpuType": "T4"
    },
    "kernelspec": {
      "display_name": "Python 3",
      "name": "python3"
    },
    "language_info": {
      "name": "python"
    },
    "accelerator": "GPU"
  },
  "nbformat": 4,
  "nbformat_minor": 0
}