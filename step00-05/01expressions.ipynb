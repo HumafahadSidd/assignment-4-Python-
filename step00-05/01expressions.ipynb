{
  "nbformat": 4,
  "nbformat_minor": 0,
  "metadata": {
    "colab": {
      "provenance": []
    },
    "kernelspec": {
      "name": "python3",
      "display_name": "Python 3"
    },
    "language_info": {
      "name": "python"
    }
  },
  "cells": [
    {
      "cell_type": "markdown",
      "source": [
        "Simulate rolling two dice, three times. Prints the results of each die roll. This program is used to show how variable scope works."
      ],
      "metadata": {
        "id": "50fe9X7U_uCo"
      }
    },
    {
      "cell_type": "code",
      "source": [
        "import random\n",
        "\n",
        "NUM_SIDES = 6  # Define the number of sides on the dice\n",
        "\n",
        "NUM_ROLLS = 3\n",
        "\n",
        "def roll_dice():\n",
        "    dice1: int = random.randint(1, NUM_SIDES)\n",
        "    dice2: int = random.randint(1, NUM_SIDES)\n",
        "    total: int = dice1 + dice2\n",
        "    print(\"Total of two dice:\", total)\n",
        "\n",
        "\n",
        "def main():\n",
        "  dice1: int = 10\n",
        "  print(\"dice1 in main() starts as: \" + str(dice1))\n",
        "  roll_dice()\n",
        "  roll_dice()\n",
        "  roll_dice()\n",
        "\n",
        "main()\n",
        "\n",
        "if __name__ == \"__main__\":\n",
        "    main()"
      ],
      "metadata": {
        "colab": {
          "base_uri": "https://localhost:8080/"
        },
        "id": "3SMsUv0O_1Ve",
        "outputId": "78957fb2-7fd8-4aff-e827-be3641da79b8"
      },
      "execution_count": null,
      "outputs": [
        {
          "output_type": "stream",
          "name": "stdout",
          "text": [
            "dice1 in main() starts as: 10\n",
            "Total of two dice: 10\n",
            "Total of two dice: 5\n",
            "Total of two dice: 6\n",
            "dice1 in main() starts as: 10\n",
            "Total of two dice: 2\n",
            "Total of two dice: 5\n",
            "Total of two dice: 3\n"
          ]
        }
      ]
    },
    {
      "cell_type": "markdown",
      "source": [],
      "metadata": {
        "id": "7C27vLkR_mGU"
      }
    },
    {
      "cell_type": "code",
      "source": [],
      "metadata": {
        "id": "B-p5w56RJy1M"
      },
      "execution_count": null,
      "outputs": []
    },
    {
      "cell_type": "markdown",
      "source": [
        "Write a program that continually reads in mass from the user and then outputs the equivalent energy using Einstein's mass-energy equivalence formula (E stands for energy, m stands for mass, and C is the speed of light:\n",
        "\n",
        "E = m * c**2\n",
        "\n",
        "Almost 100 years ago, Albert Einstein famously discovered that mass and energy are interchangeable and are related by the above equation. You should ask the user for mass (m) in kilograms and use a constant value for the speed of light -- C = 299792458 m/s.\n",
        "\n",
        "Here's a sample run of the program (user input is in bold italics):\n",
        "\n",
        "Enter kilos of mass: 100\n",
        "\n",
        "e = m * C^2...\n",
        "\n",
        "m = 100.0 kg\n",
        "\n",
        "C = 299792458 m/s\n",
        "\n",
        "8.987551787368176e+18 joules of energy!"
      ],
      "metadata": {
        "id": "gV9eqjUKCH1F"
      }
    },
    {
      "cell_type": "code",
      "source": [
        "E = 8.987551787368176e+18\n",
        "C = 299792458\n",
        "\n",
        "def energy_calc():\n",
        "    m = float(input(\"Enter kilos of mass: \"))\n",
        "    e = m * C**2\n",
        "    print(\"e = m * C^2...\")\n",
        "    print(\"m = \" + str(m) + \" kg\")\n",
        "    print(\"C = \" + str(C) + \" m/s\")\n",
        "    print(str(e) + \" joules of energy!\")\n",
        "\n",
        "# energy_calc()\n",
        "\n",
        "if __name__ == \"__main__\":\n",
        "    energy_calc()\n"
      ],
      "metadata": {
        "id": "3j7GPd0wCKVN",
        "colab": {
          "base_uri": "https://localhost:8080/"
        },
        "outputId": "68c85781-337c-4bad-99eb-29e963c16f96"
      },
      "execution_count": null,
      "outputs": [
        {
          "output_type": "stream",
          "name": "stdout",
          "text": [
            "Enter kilos of mass: 45\n",
            "e = m * C^2...\n",
            "m = 45.0 kg\n",
            "C = 299792458 m/s\n",
            "4.044398304315679e+18 joules of energy!\n"
          ]
        }
      ]
    },
    {
      "cell_type": "markdown",
      "source": [
        "Converts feet to inches. Feet is an American unit of measurement. There are 12 inches per foot. Foot is the singular, and feet is the plural."
      ],
      "metadata": {
        "id": "mIkauEuRceW3"
      }
    },
    {
      "cell_type": "code",
      "source": [
        "def feet_inches():\n",
        "  feet :float=float(input (\"enter value in feet to convert in inches=\"))\n",
        "  in_inches:float=feet*12\n",
        "  print(feet,\"feet is equal to\",in_inches,\"inches\")\n",
        "\n",
        "  print(feet*12,\"inches\")\n",
        "\n",
        "# feet_inches()\n",
        "if __name__ == \"__main__\":\n",
        "    feet_inches()"
      ],
      "metadata": {
        "colab": {
          "base_uri": "https://localhost:8080/"
        },
        "id": "vYF13b88clMj",
        "outputId": "09cb72cc-51aa-4f4d-b8a8-768314a357ae"
      },
      "execution_count": null,
      "outputs": [
        {
          "output_type": "stream",
          "name": "stdout",
          "text": [
            "enter value in feet to convert in inches=67\n",
            "67.0 feet is equal to 804.0 inches\n",
            "804.0 inches\n"
          ]
        }
      ]
    },
    {
      "cell_type": "markdown",
      "source": [
        "Write a program that asks the user for the lengths of the two perpendicular sides of a right triangle and outputs the length of the third side (the hypotenuse) using the Pythagorean theorem!\n",
        "\n",
        "The Pythagorean theorem, named after the ancient Greek thinker, Pythagoras, is a fundamental relation in geometry. It states that in a right triangle, the square of the hypotenuse is equal to the sum of the square of the other two sides.\n",
        "\n",
        "For instance, let's consider a right triangle ABC, with the right angle located at C. According to the Pythagorean theorem:\n",
        "\n",
        "BC ** 2 = AB ** 2 + AC ** 2\n",
        "\n",
        "Your code should read in the lengths of the sides AB and AC, and that outputs the length of the hypotenuse (BC). You will probably find math.sqrt() to be useful.\n",
        "\n",
        "Here's a sample run of the program (user input is in bold italics):\n",
        "\n",
        "Enter the length of AB: 3\n",
        "\n",
        "Enter the length of AC: 4\n",
        "\n",
        "The length of BC (the hypotenuse) is: 5.0"
      ],
      "metadata": {
        "id": "2nYb8rIdd7Yk"
      }
    },
    {
      "cell_type": "code",
      "source": [
        "import math\n",
        "def hypotenuse():\n",
        "  AB=float(input(\"Enter the length of AB: \"))\n",
        "  AC=float(input(\"Enter the length of AC: \"))\n",
        "  BC=math.sqrt(AB**2+AC**2)\n",
        "  print(\"The length of BC (the hypotenuse) is: \",BC)\n",
        "\n",
        "# hypotenuse()\n",
        "if __name__ == \"__main__\":\n",
        "    hypotenuse()\n",
        "\n"
      ],
      "metadata": {
        "colab": {
          "base_uri": "https://localhost:8080/"
        },
        "id": "Q-_A4r7PeDqZ",
        "outputId": "776c2fa3-4d36-40b1-a03f-ef70a8e30297"
      },
      "execution_count": null,
      "outputs": [
        {
          "output_type": "stream",
          "name": "stdout",
          "text": [
            "Enter the length of AB: 3\n",
            "Enter the length of AC: 4\n",
            "The length of BC (the hypotenuse) is:  5.0\n"
          ]
        }
      ]
    },
    {
      "cell_type": "markdown",
      "source": [
        "Ask the user for two numbers, one at a time, and then print the result of dividing the first number by the second and also the remainder of the division.\n",
        "\n",
        "Here's a sample run of the program (user input is in bold italics):\n",
        "\n",
        "Please enter an integer to be divided: 5\n",
        "\n",
        "Please enter an integer to divide by: 3\n",
        "\n",
        "The result of this division is 1 with a remainder of 2"
      ],
      "metadata": {
        "id": "y-Y3drZIhHZd"
      }
    },
    {
      "cell_type": "code",
      "source": [
        "def division(a:float,b:float):\n",
        "  print(\"The result of this division is\",a//b,\"with a remainder of\",a%b)\n",
        "\n",
        "if __name__ == \"__main__\":\n",
        "  a=float(input(\"Please enter an integer to be divided: \"))\n",
        "  b=float(input(\"Please enter an integer to divide by: \"))\n",
        "  division(a,b)\n"
      ],
      "metadata": {
        "colab": {
          "base_uri": "https://localhost:8080/"
        },
        "id": "wKzfPkQ1hLAI",
        "outputId": "9ac003ff-661d-4a7c-e06f-fa4d9e3036ef"
      },
      "execution_count": null,
      "outputs": [
        {
          "output_type": "stream",
          "name": "stdout",
          "text": [
            "Please enter an integer to be divided: 6\n",
            "Please enter an integer to divide by: 3\n",
            "The result of this division is 2.0 with a remainder of 0.0\n"
          ]
        }
      ]
    },
    {
      "cell_type": "markdown",
      "source": [
        "Simulate rolling two dice, and prints results of each roll as well as the total."
      ],
      "metadata": {
        "id": "vnQOhmzJhxMY"
      }
    },
    {
      "cell_type": "code",
      "source": [
        "import random\n",
        "def tot_two_dice():\n",
        "  dice1=random.randint(1,6)\n",
        "  dice2=random.randint(1,6)\n",
        "  total=dice1+dice2\n",
        "  print(\"Dice 1:\",dice1)\n",
        "  print(\"Dice 2:\",dice2)\n",
        "  print(\"Total of two dice:\",total)\n",
        "\n",
        "if __name__ == \"__main__\":\n",
        "  tot_two_dice()\n"
      ],
      "metadata": {
        "colab": {
          "base_uri": "https://localhost:8080/"
        },
        "id": "wS5VKK83hyw4",
        "outputId": "5ec79ce1-287c-4ebd-9a15-3adbf1f1b720"
      },
      "execution_count": null,
      "outputs": [
        {
          "output_type": "stream",
          "name": "stdout",
          "text": [
            "Dice 1: 1\n",
            "Dice 2: 4\n",
            "Total of two dice: 5\n"
          ]
        }
      ]
    },
    {
      "cell_type": "markdown",
      "source": [
        "Use Python to calculate the number of seconds in a year, and tell the user what the result is in a nice print statement that looks like this (of course the value 5 should be the calculated number instead):\n",
        "\n",
        "There are 5 seconds in a year!\n",
        "\n",
        "You should use constants for this exercise -- there are 365 days in a year, 24 hours in a day, 60 minutes in an hour, and 60 seconds per minute.\n"
      ],
      "metadata": {
        "id": "Baf_OjsuiOn8"
      }
    },
    {
      "cell_type": "code",
      "source": [
        "ONE_YEAR=365\n",
        "DAY=24\n",
        "HOUR=60\n",
        "MIN=60\n",
        "\n",
        "def seconds_in_year():\n",
        "  seconds=ONE_YEAR*DAY*HOUR*MIN\n",
        "  print(f\"of course there are {seconds} in a year!\")\n",
        "\n",
        "if __name__ == \"__main__\":\n",
        "  seconds_in_year()"
      ],
      "metadata": {
        "colab": {
          "base_uri": "https://localhost:8080/"
        },
        "id": "mAAKtQmXiQW1",
        "outputId": "75a93a8f-c00c-44e9-ac72-02ebd1393607"
      },
      "execution_count": null,
      "outputs": [
        {
          "output_type": "stream",
          "name": "stdout",
          "text": [
            "of course there are 31536000 in a year!\n"
          ]
        }
      ]
    },
    {
      "cell_type": "markdown",
      "source": [
        "Write a program which prompts the user for an adjective, then a noun, then a verb, and then prints a fun sentence with those words!\n",
        "\n",
        "Mad Libs is a word game where players are prompted for one word at a time, and the words are eventually filled into the blanks of a word template to make an entertaining story! We've provided you with the beginning of a sentence (the SENTENCE_START constant) which will end in a user-inputted adjective, noun, and then verb.\n",
        "\n",
        "Here's a sample run (user input is in bold italics):\n",
        "\n",
        "Please type an adjective and press enter. tiny\n",
        "\n",
        "Please type a noun and press enter. plant\n",
        "\n",
        "Please type a verb and press enter. fly\n",
        "\n",
        "Code in Place is fun. I learned to program and used Python to make my tiny plant fly!"
      ],
      "metadata": {
        "id": "e8XZSyvAjUDp"
      }
    },
    {
      "cell_type": "code",
      "source": [
        "def mad_libs():\n",
        "  adjective=input(\"Please type an adjective and press enter. \")\n",
        "  noun=input(\"Please type a noun and press enter. \")\n",
        "  verb=input(\"Please type a verb and press enter. \")\n",
        "  SENTENCE_START = f\"Yesterday, I went to the zoo and saw a giant {adjective} animal. It was {verb}ing while wearing a {adjective} {noun}. I couldn't believe my eyes when it {verb} a {adjective} broast into the air and yelled, 'I am the {adjective} ruler of Nigeria!'\"\n",
        "  print(SENTENCE_START)\n",
        "if __name__ == \"__main__\":\n",
        "  mad_libs()"
      ],
      "metadata": {
        "colab": {
          "base_uri": "https://localhost:8080/"
        },
        "id": "kGAOzr6ZjVU3",
        "outputId": "60b360b9-f65d-45c1-8387-0431a76cb0c8"
      },
      "execution_count": null,
      "outputs": [
        {
          "output_type": "stream",
          "name": "stdout",
          "text": [
            "Please type an adjective and press enter. humurous\n",
            "Please type a noun and press enter. yokohama\n",
            "Please type a verb and press enter. play\n",
            "Yesterday, I went to the zoo and saw a giant humurous animal. It was playing while wearing a humurous yokohama. I couldn't believe my eyes when it play a humurous broast into the air and yelled, 'I am the humurous ruler of Nigeria!'\n"
          ]
        }
      ]
    }
  ]
}